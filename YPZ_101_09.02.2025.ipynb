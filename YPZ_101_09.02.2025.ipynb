{
 "cells": [
  {
   "cell_type": "code",
   "execution_count": 1,
   "id": "27b567c6",
   "metadata": {},
   "outputs": [],
   "source": [
    "#parametreli\n",
    "#parametresiz\n",
    "#değer döndüren\n",
    "# değer döndürmeyen"
   ]
  },
  {
   "cell_type": "code",
   "execution_count": 2,
   "id": "016938c7",
   "metadata": {},
   "outputs": [],
   "source": [
    "# parametresiz, değer döndürmeyen\n",
    "def hello_world():\n",
    "    print('Merhabalar hoşgeldiniz.')"
   ]
  },
  {
   "cell_type": "code",
   "execution_count": 3,
   "id": "e5706911",
   "metadata": {},
   "outputs": [],
   "source": [
    "# parametreli , değer deöndürmeyen fonksiyonlar :\n",
    "# f(x) = 2x + 5 \n",
    "# f(2) = 2*2 +5 = 9\n",
    "def info(isim):\n",
    "    print(f'merhaba :{isim}')"
   ]
  },
  {
   "cell_type": "code",
   "execution_count": 5,
   "id": "0cc67971",
   "metadata": {},
   "outputs": [
    {
     "name": "stdout",
     "output_type": "stream",
     "text": [
      "Merhabalar hoşgeldiniz.\n",
      "Merhabalar hoşgeldiniz.\n",
      "Merhabalar hoşgeldiniz.\n",
      "Merhabalar hoşgeldiniz.\n",
      "Merhabalar hoşgeldiniz.\n",
      "Merhabalar hoşgeldiniz.\n"
     ]
    }
   ],
   "source": [
    "hello_world()\n",
    "hello_world()\n",
    "hello_world()\n",
    "hello_world()\n",
    "hello_world()\n",
    "hello_world()"
   ]
  },
  {
   "cell_type": "code",
   "execution_count": 6,
   "id": "3a4eb0f7",
   "metadata": {},
   "outputs": [
    {
     "name": "stdout",
     "output_type": "stream",
     "text": [
      "merhaba :Buse\n",
      "merhaba :Ömer\n",
      "merhaba :123\n"
     ]
    }
   ],
   "source": [
    "info('Buse')\n",
    "info('Ömer')\n",
    "info(123)"
   ]
  },
  {
   "cell_type": "code",
   "execution_count": 9,
   "id": "937b82b8",
   "metadata": {},
   "outputs": [],
   "source": [
    "def person_info(name, surname='Doğan'):\n",
    "    print(f'merhaba benim adım : {name}, soyadım : {surname}')"
   ]
  },
  {
   "cell_type": "code",
   "execution_count": 10,
   "id": "883b0a08",
   "metadata": {},
   "outputs": [
    {
     "name": "stdout",
     "output_type": "stream",
     "text": [
      "merhaba benim adım : Deneme, soyadım : Doğan\n"
     ]
    }
   ],
   "source": [
    "person_info('Deneme')"
   ]
  },
  {
   "cell_type": "code",
   "execution_count": 11,
   "id": "d6b1a55b",
   "metadata": {},
   "outputs": [
    {
     "name": "stdout",
     "output_type": "stream",
     "text": [
      "merhaba benim adım : Evren, soyadım : Doğan\n"
     ]
    }
   ],
   "source": [
    "person_info('Evren')"
   ]
  },
  {
   "cell_type": "code",
   "execution_count": 12,
   "id": "a50bf46d",
   "metadata": {},
   "outputs": [
    {
     "name": "stdout",
     "output_type": "stream",
     "text": [
      "merhaba benim adım : Hüseyin, soyadım : Şen\n"
     ]
    }
   ],
   "source": [
    "person_info('Hüseyin','Şen')"
   ]
  },
  {
   "cell_type": "code",
   "execution_count": 13,
   "id": "e61a9b53",
   "metadata": {},
   "outputs": [],
   "source": [
    "#fonksiyonlar da tip belirleme\n",
    "def topla(sayi1:float, sayi2:float):\n",
    "    print(sayi1+sayi2)"
   ]
  },
  {
   "cell_type": "code",
   "execution_count": 14,
   "id": "893ca5cd",
   "metadata": {},
   "outputs": [
    {
     "name": "stdout",
     "output_type": "stream",
     "text": [
      "30\n"
     ]
    }
   ],
   "source": [
    "topla(25,5)"
   ]
  },
  {
   "cell_type": "code",
   "execution_count": 15,
   "id": "e97a5c39",
   "metadata": {},
   "outputs": [
    {
     "name": "stdout",
     "output_type": "stream",
     "text": [
      "DenemeMerhaba\n"
     ]
    }
   ],
   "source": [
    "topla('Deneme','Merhaba')"
   ]
  },
  {
   "cell_type": "code",
   "execution_count": 16,
   "id": "b3719148",
   "metadata": {},
   "outputs": [],
   "source": [
    "# değer döndüren fonksiyonlar\n",
    "def carpma(num1, num2):\n",
    "    return num1 * num2"
   ]
  },
  {
   "cell_type": "code",
   "execution_count": 17,
   "id": "07595557",
   "metadata": {},
   "outputs": [
    {
     "name": "stdout",
     "output_type": "stream",
     "text": [
      "70\n",
      "None 225\n"
     ]
    }
   ],
   "source": [
    "toplam = topla(5,65)\n",
    "carpim = carpma(45,5)\n",
    "print(toplam,carpim)"
   ]
  },
  {
   "cell_type": "code",
   "execution_count": 20,
   "id": "a52ba0a9",
   "metadata": {},
   "outputs": [],
   "source": [
    "def islem(num1,num2):\n",
    "    bolum = num1/num2\n",
    "    cikarma = num1-num2\n",
    "    return cikarma,bolum"
   ]
  },
  {
   "cell_type": "code",
   "execution_count": 23,
   "id": "0b92be8e",
   "metadata": {},
   "outputs": [
    {
     "name": "stdout",
     "output_type": "stream",
     "text": [
      "çıkarma sonucu : 20\n",
      "bolme sonuc : 5.0\n"
     ]
    }
   ],
   "source": [
    "cikarma_sonuc, bolme_sonuc = islem(25,5)\n",
    "print(f'çıkarma sonucu : {cikarma_sonuc}')\n",
    "print(f'bolme sonuc : {bolme_sonuc}')"
   ]
  },
  {
   "cell_type": "code",
   "execution_count": 24,
   "id": "e921db29",
   "metadata": {},
   "outputs": [],
   "source": [
    "# * args \n",
    "def carpim(*sayilar):\n",
    "    carpim = 1\n",
    "    for sayi in sayilar:\n",
    "        carpim *= sayi\n",
    "    return carpim"
   ]
  },
  {
   "cell_type": "code",
   "execution_count": 25,
   "id": "5165e04a",
   "metadata": {},
   "outputs": [
    {
     "name": "stdout",
     "output_type": "stream",
     "text": [
      "5040\n"
     ]
    }
   ],
   "source": [
    "x = carpim(1,7,8,9,10)\n",
    "print(x)"
   ]
  },
  {
   "cell_type": "code",
   "execution_count": 26,
   "id": "1c9bafb0",
   "metadata": {},
   "outputs": [],
   "source": [
    "# **kwargs\n",
    "def kisi_bilgiler(**bilgiler):\n",
    "    for anahtar, deger in bilgiler.items():\n",
    "        print(f'{anahtar} : {deger}')"
   ]
  },
  {
   "cell_type": "code",
   "execution_count": 27,
   "id": "a43d6f68",
   "metadata": {},
   "outputs": [
    {
     "name": "stdout",
     "output_type": "stream",
     "text": [
      "ad : Cavit Batu\n",
      "soyad : Soylu\n",
      "yas : 21\n"
     ]
    }
   ],
   "source": [
    "kisi_bilgiler(ad=\"Cavit Batu\", soyad='Soylu',yas = 21)"
   ]
  },
  {
   "cell_type": "code",
   "execution_count": 28,
   "id": "30038ecc",
   "metadata": {},
   "outputs": [],
   "source": [
    "# lambda : Tek satırlık fonksiyonlar oluşturmak için kullanılır."
   ]
  },
  {
   "cell_type": "code",
   "execution_count": 30,
   "id": "52b47eae",
   "metadata": {},
   "outputs": [],
   "source": [
    "topla_lambda = lambda a, b: a+b"
   ]
  },
  {
   "cell_type": "code",
   "execution_count": 31,
   "id": "4b75025e",
   "metadata": {},
   "outputs": [
    {
     "name": "stdout",
     "output_type": "stream",
     "text": [
      "30\n"
     ]
    }
   ],
   "source": [
    "print(topla_lambda(25,5))"
   ]
  },
  {
   "cell_type": "code",
   "execution_count": 32,
   "id": "a4a5bb9c",
   "metadata": {},
   "outputs": [],
   "source": [
    "# Ürünün ham fiyatını ve kdv oranını parametre olarak alan fonksiyon yazınız."
   ]
  },
  {
   "cell_type": "code",
   "execution_count": 33,
   "id": "3ac0a0e5",
   "metadata": {},
   "outputs": [],
   "source": [
    "def kdv_hesapla(fiyat, oran=0.2):\n",
    "    return fiyat + (fiyat*oran) "
   ]
  },
  {
   "cell_type": "code",
   "execution_count": 35,
   "id": "e8a64c02",
   "metadata": {},
   "outputs": [
    {
     "name": "stdout",
     "output_type": "stream",
     "text": [
      "vergisiz fiyatlar : [100, 250, 360, 400]\n",
      "Yeni fiyat : [125.0, 312.5, 450.0, 500.0]\n"
     ]
    }
   ],
   "source": [
    "urun_fiyatlari = [100,250,360,400]\n",
    "yeni_fiyatlari = [kdv_hesapla(fiyat,0.25)  for fiyat in urun_fiyatlari]\n",
    "print(f'vergisiz fiyatlar : {urun_fiyatlari}')\n",
    "print(f'Yeni fiyat : {yeni_fiyatlari}')"
   ]
  },
  {
   "cell_type": "code",
   "execution_count": 36,
   "id": "5901f9e4",
   "metadata": {},
   "outputs": [],
   "source": [
    "# Faktoriyel hesabı yapan fonksiyon yazınız.\n",
    "# 5! = 1 * 2 * 3 * 4 * 5 \n",
    "# 6! = 1* 2 * 3 * 4 * 5 * 6\n",
    "def faktoriyel(number):\n",
    "    carpim = 1\n",
    "    for i in range(1,number+1):\n",
    "        carpim *= i\n",
    "    return carpim\n",
    "    "
   ]
  },
  {
   "cell_type": "code",
   "execution_count": 37,
   "id": "79b1fa89",
   "metadata": {},
   "outputs": [
    {
     "name": "stdout",
     "output_type": "stream",
     "text": [
      "120\n"
     ]
    }
   ],
   "source": [
    "print(faktoriyel(5))"
   ]
  },
  {
   "cell_type": "code",
   "execution_count": 38,
   "id": "952a307f",
   "metadata": {},
   "outputs": [],
   "source": [
    "# P(n,r) : n! /(n-r)!\n",
    "def permutasyon(n,r):\n",
    "    return faktoriyel(n)/(faktoriyel(n-r))"
   ]
  },
  {
   "cell_type": "code",
   "execution_count": 39,
   "id": "56d1f8a8",
   "metadata": {},
   "outputs": [
    {
     "name": "stdout",
     "output_type": "stream",
     "text": [
      "20.0\n"
     ]
    }
   ],
   "source": [
    "# P(5,2) = 5 * 4 = 20\n",
    "# P(5,3) = 5* 4 * 3 = 60\n",
    "# P(5,4) = 5 * 4 * 3 * 2= 120\n",
    "print(permutasyon(5,2))"
   ]
  },
  {
   "cell_type": "code",
   "execution_count": 40,
   "id": "174860a6",
   "metadata": {},
   "outputs": [],
   "source": [
    "# C(n,r) = (n! /(n-r)!) * 1 / r!\n",
    "def kombinasyon(n,r):\n",
    "    return permutasyon(n,r) / faktoriyel(r)"
   ]
  },
  {
   "cell_type": "code",
   "execution_count": 41,
   "id": "3b5bf5c9",
   "metadata": {},
   "outputs": [
    {
     "name": "stdout",
     "output_type": "stream",
     "text": [
      "10.0\n"
     ]
    }
   ],
   "source": [
    "print(kombinasyon(5,3))"
   ]
  },
  {
   "cell_type": "code",
   "execution_count": 42,
   "id": "bb4d6c13",
   "metadata": {},
   "outputs": [],
   "source": [
    "# C(5,3) =\n",
    "#5 * 4 * \n",
    "# -------- = 10\n",
    "# * 2 * 1"
   ]
  },
  {
   "cell_type": "code",
   "execution_count": 43,
   "id": "6d33f652",
   "metadata": {},
   "outputs": [
    {
     "name": "stdout",
     "output_type": "stream",
     "text": [
      "[1, 2, 3, 4, 5, 6, 7, 8, 9, 10]\n"
     ]
    }
   ],
   "source": [
    "# filter : filtreleme işlemi yapar.\n",
    "numbers = [ i for i in range(1,11)]\n",
    "print(numbers)"
   ]
  },
  {
   "cell_type": "code",
   "execution_count": 44,
   "id": "40527546",
   "metadata": {},
   "outputs": [
    {
     "name": "stdout",
     "output_type": "stream",
     "text": [
      "[2, 4, 6, 8, 10]\n"
     ]
    }
   ],
   "source": [
    "# numbers dizisindeki çift sayıları ayrı listede tutma\n",
    "even_numbers = list(filter(lambda x: x%2==0 , numbers))\n",
    "print(even_numbers)"
   ]
  },
  {
   "cell_type": "code",
   "execution_count": 46,
   "id": "3d946637",
   "metadata": {},
   "outputs": [
    {
     "name": "stdout",
     "output_type": "stream",
     "text": [
      "[1, 4, 9, 16, 25]\n"
     ]
    }
   ],
   "source": [
    "# map : listedeki her eleman üzerinde bir işlem yapar.\n",
    "# nums listesindeki tüm elemanlaarın karesini alma\n",
    "nums = [1,2,3,4,5]\n",
    "squared = list(map(lambda x : x**2, nums))\n",
    "print(squared)"
   ]
  },
  {
   "cell_type": "code",
   "execution_count": 47,
   "id": "46bdbc6d",
   "metadata": {},
   "outputs": [
    {
     "name": "stdout",
     "output_type": "stream",
     "text": [
      "101\n"
     ]
    }
   ],
   "source": [
    "# reduce : Listedeki elemanları belirli bir işleme tabi tutarak tek 1 sonuç elde etmek için kullanılır\n",
    "from functools import reduce\n",
    "# listedeki tüm elemanların toplanması \n",
    "nums2 = [10,21,45,3,1,-5,3,6,7,10]\n",
    "sum_nums2 = reduce(lambda x ,y : x + y, nums2 )\n",
    "print(sum_nums2)\n"
   ]
  },
  {
   "cell_type": "code",
   "execution_count": 49,
   "id": "70dd63a0",
   "metadata": {},
   "outputs": [
    {
     "name": "stdout",
     "output_type": "stream",
     "text": [
      "5300\n"
     ]
    }
   ],
   "source": [
    "orders = [\n",
    "    {'product':'Laptop', 'price':5000},\n",
    "     {'product':'Mouse', 'price':100},\n",
    "     {'product':'Klavye', 'price':200},\n",
    "]\n",
    "\n",
    "# ÜRÜNLERİN TOPLAM ÜCRETİ ekrana gösteren kod \n",
    "total_price = reduce(lambda a, item: a+item['price'],orders,0)\n",
    "print(total_price)"
   ]
  },
  {
   "cell_type": "code",
   "execution_count": 50,
   "id": "4bb57fda",
   "metadata": {},
   "outputs": [
    {
     "name": "stdout",
     "output_type": "stream",
     "text": [
      "['MERHABALAR', 'YAPAY ZEKA', 'ISTANBUL', 'MALATYA']\n"
     ]
    }
   ],
   "source": [
    "words = ['merhabalar','yapay zeka','istanbul','malatya']\n",
    "# Geleneksel yöntem :\n",
    "upper1 = list()\n",
    "for word in words:\n",
    "    upper_word = word.upper()\n",
    "    upper1.append(upper_word)\n",
    "print(upper1)"
   ]
  },
  {
   "cell_type": "code",
   "execution_count": 51,
   "id": "b00e57e5",
   "metadata": {},
   "outputs": [
    {
     "name": "stdout",
     "output_type": "stream",
     "text": [
      "['MERHABALAR', 'YAPAY ZEKA', 'ISTANBUL', 'MALATYA']\n"
     ]
    }
   ],
   "source": [
    "# list comprehension yöntemi\n",
    "upper2 = [w.upper()  for w in words]\n",
    "print(upper2)"
   ]
  },
  {
   "cell_type": "code",
   "execution_count": 52,
   "id": "bb0734da",
   "metadata": {},
   "outputs": [
    {
     "name": "stdout",
     "output_type": "stream",
     "text": [
      "['MERHABALAR', 'YAPAY ZEKA', 'ISTANBUL', 'MALATYA']\n"
     ]
    }
   ],
   "source": [
    "# map yöntemi ile yapalım \n",
    "upper3 = list(map(lambda x: x.upper(), words))\n",
    "print(upper3)"
   ]
  },
  {
   "cell_type": "code",
   "execution_count": 53,
   "id": "311019bc",
   "metadata": {},
   "outputs": [
    {
     "name": "stdout",
     "output_type": "stream",
     "text": [
      "tek sayılar : [1, 25, 49, 81, 121, 25]\n",
      "çift sayılar : [4, 16, 64, 16]\n"
     ]
    }
   ],
   "source": [
    "numbers = [1,2,4,5,7,8,9,11,4,5]\n",
    "# y dizisinin tüm elemanlarının karesini alıp ve karelerinin sonucunu \n",
    "# tek sayılar listesi\n",
    "# çift sayılar listesi olarak alınız.\n",
    "\n",
    "# Geleneksel yöntem : \n",
    "tek_sayilar = list()\n",
    "cift_sayilar = list()\n",
    "for x in numbers:\n",
    "    if x**2 %2 ==0:\n",
    "        cift_sayilar.append(x**2)\n",
    "    else:\n",
    "        tek_sayilar.append(x**2)\n",
    "print(f'tek sayılar : {tek_sayilar}')\n",
    "print(f'çift sayılar : {cift_sayilar}')"
   ]
  },
  {
   "cell_type": "code",
   "execution_count": 54,
   "id": "ccbeab74",
   "metadata": {},
   "outputs": [
    {
     "name": "stdout",
     "output_type": "stream",
     "text": [
      "tek sayılar : [1, 25, 49, 81, 121, 25]\n",
      "çift sayılar : [4, 16, 64, 16]\n"
     ]
    }
   ],
   "source": [
    "# list comprehension yöntemi\n",
    "t_sayilar = [x**2 for x in numbers if x**2 %2 !=0]\n",
    "c_sayilar = [x**2 for x in numbers if x**2 %2 ==0]\n",
    "print(f'tek sayılar : {t_sayilar}')\n",
    "print(f'çift sayılar : {c_sayilar}')"
   ]
  },
  {
   "cell_type": "code",
   "execution_count": 60,
   "id": "3bc570c6",
   "metadata": {},
   "outputs": [
    {
     "name": "stdout",
     "output_type": "stream",
     "text": [
      "[1, 25, 49, 81, 121, 25]\n",
      "{16, 64, 4}\n",
      "[1, 2, 4, 5, 7, 8, 9, 11, 4, 5]\n"
     ]
    }
   ],
   "source": [
    "# map ve filter aynı anda kullanarak yapma\n",
    "t_sayilar1 = list(map(lambda y: y**2,list(filter(lambda x: x**2 %2 !=0,numbers))))\n",
    "c_sayilar1 = set(map(lambda y: y**2,filter(lambda x: x**2 %2==0,numbers)))\n",
    "print(t_sayilar1)\n",
    "print(c_sayilar1)\n",
    "print(numbers)"
   ]
  },
  {
   "cell_type": "code",
   "execution_count": 67,
   "id": "a6980fdf",
   "metadata": {},
   "outputs": [],
   "source": [
    "# Dosya okuma ve yazma  : \n",
    "# dosyaya yazma (write)\n",
    "\n",
    "with open('deneme.txt','w',encoding='utf-8') as file:\n",
    "    file.write('Merhabalar bu bir dosyaya yazma örneğidir. \\n')\n",
    "    file.write('Selamlar')"
   ]
  },
  {
   "cell_type": "code",
   "execution_count": 64,
   "id": "d111cea8",
   "metadata": {},
   "outputs": [
    {
     "name": "stdout",
     "output_type": "stream",
     "text": [
      "Merhabalar bu bir dosyaya yazma örneğidir. \n",
      "Selamlar\n",
      "\n",
      "Buse Doğan\n",
      "Uzay Doğan\n",
      "Sanal Doğan\n",
      "Evren Doğan\n",
      "Ömer Faruk Doğan\n",
      "\n"
     ]
    }
   ],
   "source": [
    "# dosyadan  okuma (read): \n",
    "with open('deneme.txt','r',encoding='utf-8') as file:\n",
    "    content = file.read()\n",
    "    print(content)"
   ]
  },
  {
   "cell_type": "code",
   "execution_count": 66,
   "id": "b646176b",
   "metadata": {},
   "outputs": [
    {
     "name": "stdout",
     "output_type": "stream",
     "text": [
      "Merhabalar bu bir dosyaya yazma örneğidir.\n",
      "Selamlar\n",
      "\n",
      "Buse Doğan\n",
      "Uzay Doğan\n",
      "Sanal Doğan\n",
      "Evren Doğan\n",
      "Ömer Faruk Doğan\n"
     ]
    }
   ],
   "source": [
    "# dosyayı satır satır okuma işlemi : \n",
    "with open('deneme.txt','r', encoding='utf-8') as file:\n",
    "    lines = file.readlines()\n",
    "    for line in lines:\n",
    "        print(line.strip())"
   ]
  },
  {
   "cell_type": "code",
   "execution_count": 68,
   "id": "870ce354",
   "metadata": {},
   "outputs": [],
   "source": [
    "# dosyaya veri ekleme append : (a)\n",
    "with open('deneme.txt','a', encoding='utf-8') as file:\n",
    "    file.write('\\n selamlar ben listeye eklendim.')"
   ]
  },
  {
   "cell_type": "code",
   "execution_count": 69,
   "id": "ea7f294d",
   "metadata": {},
   "outputs": [],
   "source": [
    "# Kullanıcı markete gitmek istiyor almak istediği ürünleri ve fiyatını biliyor.\n",
    "# Kullanıcının max bütcesi 2500 tl dir alacağı ürünlerin toplam fiyatı 2500 tl yi aşarsa \n",
    "# txt dosyasının alt kısmında bütçeyi xxxx TL aştınız ekran çıktısı versin\n",
    "# Bütçeyi aşmaz ise toplam ücretini ve kalan bakiyesini txt dosyası içerisine eklesin."
   ]
  },
  {
   "cell_type": "code",
   "execution_count": 85,
   "id": "3a43de08",
   "metadata": {},
   "outputs": [
    {
     "name": "stdout",
     "output_type": "stream",
     "text": [
      "Kaç adet ürün almak istersiniz : 3\n",
      "1. Ürünün adını giriniz :Kayısı\n",
      "Kayısı ürününden kaç adet almak istiyorsunuz : 20\n",
      "Kayısı ürününün fiyatı giriniz: 100\n",
      "2. Ürünün adını giriniz :Elma\n",
      "Elma ürününden kaç adet almak istiyorsunuz : 30\n",
      "Elma ürününün fiyatı giriniz: 25\n",
      "3. Ürünün adını giriniz :Armut\n",
      "Armut ürününden kaç adet almak istiyorsunuz : 10\n",
      "Armut ürününün fiyatı giriniz: 35\n",
      "3100.0\n"
     ]
    }
   ],
   "source": [
    "with open('alisveris.txt','w',encoding='utf-8') as file:\n",
    "    file.write(\"Alışveriş listesi \\n\")\n",
    "    file.write(\"------------------------------- \\n\")\n",
    "urun_adedi = int(input('Kaç adet ürün almak istersiniz : '))\n",
    "urunler = []\n",
    "for i in range(urun_adedi):\n",
    "    urun_adi = input(f\"{i+1}. Ürünün adını giriniz :\")\n",
    "    urun_adedi = int(input(f'{urun_adi} ürününden kaç adet almak istiyorsunuz : '))\n",
    "    urun_fiyat = float(input(f'{urun_adi} ürününün fiyatı giriniz: '))\n",
    "    \n",
    "    urunler.append({'urun_adi':urun_adi, 'urun_adedi':urun_adedi, 'urun_fiyat':urun_fiyat})\n",
    "total_price = 0\n",
    "for urun in urunler:\n",
    "    total_price = total_price + (urun['urun_fiyat']* urun['urun_adedi'])\n",
    "print(total_price)\n",
    "with open('alisveris.txt','a',encoding='utf-8') as file:\n",
    "    for urun in urunler:\n",
    "        metin = f'Ürün adı : {urun[\"urun_adi\"]}, Ürün fiyatı : {urun[\"urun_fiyat\"]}, Ürün adedi : {urun[\"urun_adedi\"]}\\n'\n",
    "        file.write(metin)\n",
    "    file.write(\"-------------------------------------------------------------------\\n\")\n",
    "    text = \"\"\n",
    "if total_price >=2500 :\n",
    "    text = f\"Bütceyi aştınız : {total_price - 2500} TL fazla hesap tutuyor.\"\n",
    "else:\n",
    "    text = f\"toplam ücret : {total_price}\"\n",
    "\n",
    "with open('alisveris.txt','a',encoding='utf-8') as file:\n",
    "    file.write(\"--------------------------------------------------------------------\\n\")\n",
    "    file.write(text)"
   ]
  },
  {
   "cell_type": "code",
   "execution_count": 87,
   "id": "ae65f6b5",
   "metadata": {},
   "outputs": [
    {
     "name": "stdout",
     "output_type": "stream",
     "text": [
      "Sayı 0 a bölünemez\n"
     ]
    }
   ],
   "source": [
    "# istisna yönetimi : try - except \n",
    "try:\n",
    "    x = 120/0\n",
    "    print(x)\n",
    "except ZeroDivisionError:\n",
    "    print(\"Sayı 0 a bölünemez\")"
   ]
  },
  {
   "cell_type": "code",
   "execution_count": 91,
   "id": "a851cb6f",
   "metadata": {},
   "outputs": [
    {
     "name": "stdout",
     "output_type": "stream",
     "text": [
      "1. Sayıyı giriniz:10\n",
      "2. Sayıyı giriniz:asd\n",
      "Lütfen bir sayı giriniz.\n"
     ]
    }
   ],
   "source": [
    "# kullanıcıdan 2 sayı al ve sayıları birbirine böl\n",
    "try:\n",
    "    num1 = int(input(\"1. Sayıyı giriniz:\"))\n",
    "    num2 = int(input(\"2. Sayıyı giriniz:\"))\n",
    "\n",
    "    sonuc = num1 / num2\n",
    "    print(sonuc)\n",
    "except ZeroDivisionError:\n",
    "    print(\"Sayı 0 a bölünemez\")\n",
    "except ValueError:\n",
    "    print(\"Lütfen bir sayı giriniz.\")"
   ]
  },
  {
   "cell_type": "code",
   "execution_count": 92,
   "id": "8bb15792",
   "metadata": {},
   "outputs": [],
   "source": [
    "def get_age():\n",
    "    age = int(input('Lütfen yaşınızı giriniz'))\n",
    "    if age < 0:\n",
    "        raise ValueError('Yaşınız 0 dan küçük olamaz')"
   ]
  },
  {
   "cell_type": "code",
   "execution_count": 95,
   "id": "356364b2",
   "metadata": {},
   "outputs": [
    {
     "name": "stdout",
     "output_type": "stream",
     "text": [
      "Lütfen yaşınızı giriniz-10\n",
      "Yaşınız 0 dan küçük olamaz\n"
     ]
    }
   ],
   "source": [
    "try:\n",
    "    get_age()\n",
    "except ValueError as e:\n",
    "    print(e)"
   ]
  },
  {
   "cell_type": "code",
   "execution_count": 96,
   "id": "3cd78589",
   "metadata": {},
   "outputs": [],
   "source": [
    "# login olurken email ve password alanlarını girsin :\n",
    "# email alanı boş olamaz , @gmail.com ile bitmelidir.\n",
    "# password alanı ise minimum 6 Haneli olmalı \n",
    "# minimum 1 tane rakam içermeli (password)\n",
    "# minimum 1 tane noktalama işareti içermeli (password)"
   ]
  },
  {
   "cell_type": "code",
   "execution_count": 107,
   "id": "d5df7c24",
   "metadata": {},
   "outputs": [],
   "source": [
    "import string\n",
    "def login_validator():\n",
    "    email = input('Lütfen emailinizi giriniz: ')\n",
    "    password = input('Lütfen parolanızı giriniz: ')\n",
    "    \n",
    "    if len(email)<=0:\n",
    "        raise ValueError('Email alanı boş olamaz')\n",
    "    if email.endswith('@gmail.com')==False:\n",
    "        raise ValueError('Email alanı doğru formatta değil.')\n",
    "    if len(password)<6:\n",
    "        raise ValueError('Parola alanı minimum 6 haneli olmak zorundadır.')\n",
    "    has_digit = any(char.isdigit() for char in password)\n",
    "    has_punctuation = any(char in string.punctuation for char in password)\n",
    "    \n",
    "    if has_digit ==False:\n",
    "        raise ValueError('Parola alanı minmum 1 rakam içermelidir.')\n",
    "    if has_punctuation == False:\n",
    "        raise ValueError('Parola alanı minmum 1 noktalama işareti içermelidir.')\n",
    "    \n",
    "    print('giriş başarılı: ')"
   ]
  },
  {
   "cell_type": "code",
   "execution_count": 108,
   "id": "ba78cc17",
   "metadata": {},
   "outputs": [
    {
     "name": "stdout",
     "output_type": "stream",
     "text": [
      "Lütfen emailinizi giriniz: buse_dogan@gmail.com\n",
      "Lütfen parolanızı giriniz: qubitBuse123.\n",
      "giriş başarılı: \n"
     ]
    }
   ],
   "source": [
    "login_validator()"
   ]
  },
  {
   "cell_type": "code",
   "execution_count": 110,
   "id": "ee6b6621",
   "metadata": {},
   "outputs": [
    {
     "name": "stdout",
     "output_type": "stream",
     "text": [
      "Lütfen emailinizi giriniz: omer\n",
      "Lütfen parolanızı giriniz: 123456\n",
      "Email alanı doğru formatta değil.\n"
     ]
    }
   ],
   "source": [
    "try:\n",
    "    login_validator()\n",
    "except ValueError as e:\n",
    "    print(e)"
   ]
  },
  {
   "cell_type": "code",
   "execution_count": 119,
   "id": "ff129077",
   "metadata": {},
   "outputs": [],
   "source": [
    "class Araba:\n",
    "    def __init__(self,marka,model,yil):\n",
    "        self.marka = marka\n",
    "        self.model = model\n",
    "        self.year = yil\n",
    "    def bilgi_goster(self):\n",
    "        print(f'arabanın markası : {self.marka}')\n",
    "        print(f'arabanın modeli : {self.model}')\n",
    "        print(f'arabanın yılı : {self.year}')\n",
    "    \n",
    "    def __str__(self):\n",
    "        return f'arabanın markası : {self.marka},arabanın modeli : {self.model},arabanın yılı : {self.year} '"
   ]
  },
  {
   "cell_type": "code",
   "execution_count": 120,
   "id": "333770d8",
   "metadata": {},
   "outputs": [
    {
     "name": "stdout",
     "output_type": "stream",
     "text": [
      "arabanın markası : Toyota\n",
      "arabanın modeli : Corrolla Hybrid\n",
      "arabanın yılı : 2018\n",
      "arabanın markası : BMW\n",
      "arabanın modeli : M5\n",
      "arabanın yılı : 2014\n"
     ]
    }
   ],
   "source": [
    "araba = Araba('Toyota','Corrolla Hybrid',2018)\n",
    "araba.bilgi_goster()\n",
    "\n",
    "araba1 = Araba('BMW','M5',2014)\n",
    "araba1.bilgi_goster()"
   ]
  },
  {
   "cell_type": "code",
   "execution_count": 121,
   "id": "f3ae11b6",
   "metadata": {},
   "outputs": [
    {
     "name": "stdout",
     "output_type": "stream",
     "text": [
      "arabanın markası : Toyota,arabanın modeli : Corrolla Hybrid,arabanın yılı : 2018 \n"
     ]
    }
   ],
   "source": [
    "print(araba)"
   ]
  },
  {
   "cell_type": "code",
   "execution_count": null,
   "id": "49e9ecb8",
   "metadata": {},
   "outputs": [],
   "source": []
  }
 ],
 "metadata": {
  "kernelspec": {
   "display_name": "Python 3 (ipykernel)",
   "language": "python",
   "name": "python3"
  },
  "language_info": {
   "codemirror_mode": {
    "name": "ipython",
    "version": 3
   },
   "file_extension": ".py",
   "mimetype": "text/x-python",
   "name": "python",
   "nbconvert_exporter": "python",
   "pygments_lexer": "ipython3",
   "version": "3.10.9"
  }
 },
 "nbformat": 4,
 "nbformat_minor": 5
}
