{
 "cells": [
  {
   "cell_type": "code",
   "execution_count": 1,
   "id": "98620906",
   "metadata": {},
   "outputs": [
    {
     "name": "stdout",
     "output_type": "stream",
     "text": [
      "[0, 1, 2, 3, 4, 5, 6, 7, 8, 9, 10, 11, 12, 13, 14, 15, 16, 17, 18, 19, 20]\n"
     ]
    }
   ],
   "source": [
    "# 1 den 20 e kadar tüm sayıların bulumduğu listede sayı tek ise tek sayı : (x) çift ise çift sayı : (x)\n",
    "numbers = [i for i in range(21)]\n",
    "print(numbers)"
   ]
  },
  {
   "cell_type": "code",
   "execution_count": 2,
   "id": "0b737980",
   "metadata": {},
   "outputs": [
    {
     "name": "stdout",
     "output_type": "stream",
     "text": [
      "Çift sayı : 0\n",
      "Tek sayı : 1\n",
      "Çift sayı : 2\n",
      "Tek sayı : 3\n",
      "Çift sayı : 4\n",
      "Tek sayı : 5\n",
      "Çift sayı : 6\n",
      "Tek sayı : 7\n",
      "Çift sayı : 8\n",
      "Tek sayı : 9\n",
      "Çift sayı : 10\n",
      "Tek sayı : 11\n",
      "Çift sayı : 12\n",
      "Tek sayı : 13\n",
      "Çift sayı : 14\n",
      "Tek sayı : 15\n",
      "Çift sayı : 16\n",
      "Tek sayı : 17\n",
      "Çift sayı : 18\n",
      "Tek sayı : 19\n",
      "Çift sayı : 20\n"
     ]
    }
   ],
   "source": [
    "for number in numbers:\n",
    "    if number %2==0:\n",
    "        print(f'Çift sayı : {number}')\n",
    "    else:\n",
    "        print(f'Tek sayı : {number}')\n",
    "    "
   ]
  },
  {
   "cell_type": "code",
   "execution_count": 7,
   "id": "90302632",
   "metadata": {},
   "outputs": [
    {
     "name": "stdout",
     "output_type": "stream",
     "text": [
      "kaç tane Ürün eklemek istersiniz : 1\n",
      "Lütfen 1. ürünü giriniz. Simit\n",
      "['Süt', 'Ekmek', 'Yumurta', 'Simit']\n",
      "Ürün silmek ister misiniz? (E: evet , H: hayır)E\n",
      "Lütfen silmek istediğiniz ürünü yazınız : Ekmek\n",
      "['Süt', 'Yumurta', 'Simit']\n"
     ]
    }
   ],
   "source": [
    "# Alışveriş listesi oluşturma : \n",
    "shopping_list = ['Süt', 'Ekmek', 'Yumurta']\n",
    "urun_sayisi = int(input('kaç tane Ürün eklemek istersiniz : ')) # 3\n",
    "\n",
    "for i in range(urun_sayisi):\n",
    "    eklenecek_urun = input(f'Lütfen {i+1}. ürünü giriniz. ')\n",
    "    shopping_list.append(eklenecek_urun)\n",
    "print(shopping_list)\n",
    "\n",
    "silmek = input('Ürün silmek ister misiniz? (E: evet , H: hayır)')\n",
    "\n",
    "# flag Yöntemi.\n",
    "isPresent = False\n",
    "\n",
    "if silmek == 'E':\n",
    "    silinecek_urun = input('Lütfen silmek istediğiniz ürünü yazınız : ')\n",
    "    for urun in shopping_list:\n",
    "        if urun == silinecek_urun:\n",
    "            shopping_list.remove(urun)\n",
    "            isPresent = True\n",
    "            print(shopping_list)\n",
    "            break\n",
    "        else: \n",
    "            isPresent = False\n",
    "    if isPresent == False:\n",
    "        print('Aradığınız ürün bulunamadı.')\n",
    "elif silmek == 'H':\n",
    "    print('Ürünleriniz şu şekildedir :')\n",
    "    for index,value in enumerate(shopping_list):\n",
    "        print(f'{index+1}. ürün : {value}')\n",
    "else:\n",
    "    print('Hatalı İşlem girdiniz.')\n",
    "        "
   ]
  },
  {
   "cell_type": "code",
   "execution_count": 14,
   "id": "7bd0fa21",
   "metadata": {},
   "outputs": [
    {
     "name": "stdout",
     "output_type": "stream",
     "text": [
      "Bugün izleyeceğim film : Inception\n"
     ]
    }
   ],
   "source": [
    "import random \n",
    "movies = ['Inception','Harry Potter','Interstellar','Matrix','The Godfather']\n",
    "movie = random.choice(movies)\n",
    "print(f'Bugün izleyeceğim film : {movie}')"
   ]
  },
  {
   "cell_type": "code",
   "execution_count": 15,
   "id": "7434d760",
   "metadata": {},
   "outputs": [
    {
     "name": "stdout",
     "output_type": "stream",
     "text": [
      "[1, 4, 9, 16, 25]\n"
     ]
    }
   ],
   "source": [
    "# pr1: 1 den 5 e kadar bir liste olsun ve bu liste içerisindeki her elemanın karesini ayrı bir listede tutsun\n",
    "nums = [1,2,3,4,5]\n",
    "squares = []\n",
    "for num in nums:\n",
    "    square = num ** 2\n",
    "    squares.append(square)\n",
    "    \n",
    "print(squares);"
   ]
  },
  {
   "cell_type": "code",
   "execution_count": 17,
   "id": "588221a3",
   "metadata": {},
   "outputs": [
    {
     "name": "stdout",
     "output_type": "stream",
     "text": [
      "[2, 4, 6, 8, 10, 12, 14, 16, 18, 20]\n"
     ]
    }
   ],
   "source": [
    "# pr2: bir listedeki sayıların sadece çiftleri ayrı bir listede tutulsun \n",
    "numbers = [1,2,3,4,5,6,7,8,9,10,11,12,13,14,15,16,17,18,19,20]\n",
    "evens = []\n",
    "for number in numbers:\n",
    "    if number % 2 ==0:\n",
    "        evens.append(number)\n",
    "print(evens)"
   ]
  },
  {
   "cell_type": "markdown",
   "id": "515985b2",
   "metadata": {},
   "source": []
  },
  {
   "cell_type": "code",
   "execution_count": 18,
   "id": "8a687cf1",
   "metadata": {},
   "outputs": [
    {
     "name": "stdout",
     "output_type": "stream",
     "text": [
      "['Buse', 'Ömer', 'Evren', 'Sanal', 'Burak']\n"
     ]
    }
   ],
   "source": [
    "# pr3 : kelimeler listesinde harf sayısı 4 ten fazla olan kelimeler için ayrı bir liste tutunuz.\n",
    "persons = ['Buse','Ömer','Evren','Ali','Sanal','Burak','Ece','Efe']\n",
    "filter_list = []\n",
    "for person in persons:\n",
    "    if len(person) >=4:\n",
    "        filter_list.append(person)\n",
    "print(filter_list)"
   ]
  },
  {
   "cell_type": "code",
   "execution_count": 20,
   "id": "f0c16a79",
   "metadata": {},
   "outputs": [
    {
     "name": "stdout",
     "output_type": "stream",
     "text": [
      "[1, 2, 3, 4, 5, 6, 7, 8, 9, 10]\n"
     ]
    }
   ],
   "source": [
    "# pr4 : bir liste içerisindeki tüm sayıların karekökünü ayrı bir listede tutunuz.\n",
    "import math\n",
    "numbers1 = [1,4,9,16,25,36,49,64,81,100]\n",
    "kare_kokler = list()\n",
    "for num in numbers1:\n",
    "    kare_kok = int(math.sqrt(num))\n",
    "    kare_kokler.append(kare_kok)\n",
    "print(kare_kokler)\n",
    "    "
   ]
  },
  {
   "cell_type": "code",
   "execution_count": 21,
   "id": "379bdc9f",
   "metadata": {},
   "outputs": [
    {
     "name": "stdout",
     "output_type": "stream",
     "text": [
      "[6, 120, 720, 40320]\n"
     ]
    }
   ],
   "source": [
    "# pr5 : bir liste içerisindeki tüm sayıların faktöriyelini bir listede tutan kodu yazınız.\n",
    "numbers2 = [3,5,6,8]\n",
    "factorials = list()\n",
    "for num in numbers2:\n",
    "    factorial = math.factorial(num)\n",
    "    factorials.append(factorial)\n",
    "print(factorials)"
   ]
  },
  {
   "cell_type": "code",
   "execution_count": 23,
   "id": "7f20e3dc",
   "metadata": {},
   "outputs": [
    {
     "name": "stdout",
     "output_type": "stream",
     "text": [
      "['S', 'A', 'N', 'A', 'L']\n"
     ]
    }
   ],
   "source": [
    "# pr6: bir metin içerisindeki tüm harfleri büyük harf ile bir listede tutma \n",
    "word = 'sanal'\n",
    "uppercase_letters = list()\n",
    "for letter in word:\n",
    "    uppercase = letter.upper()\n",
    "    uppercase_letters.append(uppercase)\n",
    "print(uppercase_letters)"
   ]
  },
  {
   "cell_type": "code",
   "execution_count": 24,
   "id": "8cdaa06e",
   "metadata": {},
   "outputs": [
    {
     "name": "stdout",
     "output_type": "stream",
     "text": [
      "['esuB', 'remÖ', 'kuraF', 'nağoD']\n"
     ]
    }
   ],
   "source": [
    "#pr7 : Kelime listesindeki tüm kelimeleri tersine çeviren ayrı bir liste oluşturma\n",
    "words = ['Buse','Ömer','Faruk','Doğan']\n",
    "reversed_words = list()\n",
    "for word in words:\n",
    "    reversed_word = word[::-1]\n",
    "    reversed_words.append(reversed_word)\n",
    "print(reversed_words)\n",
    "    "
   ]
  },
  {
   "cell_type": "code",
   "execution_count": 25,
   "id": "78d54bdf",
   "metadata": {},
   "outputs": [
    {
     "name": "stdout",
     "output_type": "stream",
     "text": [
      "Lütfen bir kelime giriniz : SelamlarrAe\n",
      "['e', 'a', 'a', 'A', 'e']\n"
     ]
    }
   ],
   "source": [
    "#pr8 : bir kelime içerisinde sesli harfleri filtreleyen ve filtrelenmiş sesli harfleri ayrı bir listede tutan\n",
    "vowels = \"aeıioöuüAEIİOÖUÜ\"\n",
    "only_vowels = list()\n",
    "word1 = input('Lütfen bir kelime giriniz : ')\n",
    "for char in word1:\n",
    "    if char in vowels:\n",
    "        only_vowels.append(char)\n",
    "print(only_vowels)"
   ]
  },
  {
   "cell_type": "code",
   "execution_count": 26,
   "id": "3bf28d8c",
   "metadata": {},
   "outputs": [
    {
     "name": "stdout",
     "output_type": "stream",
     "text": [
      "['Tek', 'Çift', 'Tek', 'Çift', 'Tek', 'Çift', 'Tek', 'Çift', 'Tek', 'Çift']\n"
     ]
    }
   ],
   "source": [
    "#pr9 : bir sayılar listesi içerisinde Sayı tek ise ilgili indexte ki sayının değeri tek çift ise çift\n",
    "# yazan listeyi oluşturunuz\n",
    "\n",
    "nums3 = [1,2,3,4,5,6,7,8,9,10]\n",
    "tek_cift_listesi = list()\n",
    "for x in nums3:\n",
    "    if x %2==0:\n",
    "        tek_cift_listesi.append('Çift')\n",
    "    else:\n",
    "        tek_cift_listesi.append('Tek')\n",
    "        \n",
    "print(tek_cift_listesi)"
   ]
  },
  {
   "cell_type": "code",
   "execution_count": 28,
   "id": "1d27c3ae",
   "metadata": {},
   "outputs": [
    {
     "name": "stdout",
     "output_type": "stream",
     "text": [
      "['Sessiz', 'Sesli', 'Sessiz', 'Sessiz', 'Sesli', 'Sessiz', 'Sesli', 'Sessiz', 'Sesli', 'Sessiz']\n"
     ]
    }
   ],
   "source": [
    "#pr10: bir kelime içerisinde her bir harfin  sesli mi sessiz mi olduğunu ayrı bir listede tutan listeyi oluştur\n",
    "vowels = \"aeıioöuüAEIİOÖUÜ\"\n",
    "kelime2 = 'Merhabalar'\n",
    "char_types = list()\n",
    "\n",
    "for char in kelime2:\n",
    "    if char in vowels:\n",
    "        char_types.append('Sesli')\n",
    "    else:\n",
    "        char_types.append('Sessiz')\n",
    "print(char_types)"
   ]
  },
  {
   "cell_type": "code",
   "execution_count": 29,
   "id": "0f5ce37e",
   "metadata": {},
   "outputs": [],
   "source": [
    "# List comprehension yöntemi ile problemleri çözme : "
   ]
  },
  {
   "cell_type": "code",
   "execution_count": 31,
   "id": "41738c77",
   "metadata": {},
   "outputs": [
    {
     "name": "stdout",
     "output_type": "stream",
     "text": [
      "[1, 4, 9, 16, 25]\n"
     ]
    }
   ],
   "source": [
    "#pr1: pr1: 1 den 5 e kadar bir liste olsun ve bu liste içerisindeki her elemanın karesini ayrı bir listede tutsun\n",
    "my_list = [i for i in range(1,6,1)]\n",
    "filtered = [num**2  for num in my_list]\n",
    "print(filtered)"
   ]
  },
  {
   "cell_type": "code",
   "execution_count": 33,
   "id": "f19bdab1",
   "metadata": {},
   "outputs": [
    {
     "name": "stdout",
     "output_type": "stream",
     "text": [
      "[2, 4, 6, 8, 10, 12, 14, 16, 18, 20]\n"
     ]
    }
   ],
   "source": [
    "# pr2: bir listedeki sayıların sadece çiftleri ayrı bir listede tutulsun \n",
    "x = [i for i in range(1,21,1)]\n",
    "\n",
    "# sadece döngü içerisindeki verileri ayrı listede tutulacaksa\n",
    "#   [dongüdeki_eleman  for dongüdeki_eleman in liste ]\n",
    "\n",
    "#döngüyle beraber bazı koşullarımız olabilir (sadece if için bu kural geçerlidir.)\n",
    "#[dongüdeki_eleman  for dongüdeki_eleman in liste if koşul ]\n",
    "evens = [num for num in x  if num %2==0]\n",
    "print(evens)"
   ]
  },
  {
   "cell_type": "code",
   "execution_count": 35,
   "id": "364c1925",
   "metadata": {},
   "outputs": [
    {
     "name": "stdout",
     "output_type": "stream",
     "text": [
      "['EVREN', 'SANAL', 'BURAK']\n"
     ]
    }
   ],
   "source": [
    "# pr3 : kelimeler listesinde harf sayısı 4 ten fazla olan kelimeler için ayrı bir liste tutunuz.\n",
    "persons = ['Buse','Ömer','Evren','Ali','Sanal','Burak','Ece','Efe']\n",
    "filter_list = [person.upper() for person in persons if len(person)>4]\n",
    "print(filter_list)"
   ]
  },
  {
   "cell_type": "code",
   "execution_count": 36,
   "id": "65b83fc7",
   "metadata": {},
   "outputs": [
    {
     "name": "stdout",
     "output_type": "stream",
     "text": [
      "[1.0, 2.0, 3.0, 4.0, 5.0, 6.0, 7.0, 8.0, 9.0, 10.0]\n"
     ]
    }
   ],
   "source": [
    "# pr4 : bir liste içerisindeki tüm sayıların karekökünü ayrı bir listede tutunuz.\n",
    "numbers1 = [1,4,9,16,25,36,49,64,81,100]\n",
    "kare_kokler = [math.sqrt(x) for x in numbers1]\n",
    "print(kare_kokler)\n"
   ]
  },
  {
   "cell_type": "code",
   "execution_count": 37,
   "id": "40ec30cd",
   "metadata": {},
   "outputs": [
    {
     "name": "stdout",
     "output_type": "stream",
     "text": [
      "[6, 120, 720, 40320]\n"
     ]
    }
   ],
   "source": [
    "# pr5 : bir liste içerisindeki tüm sayıların faktöriyelini bir listede tutan kodu yazınız.\n",
    "numbers2 = [3,5,6,8]\n",
    "factorials = [math.factorial(c) for c in numbers2]\n",
    "print(factorials)"
   ]
  },
  {
   "cell_type": "code",
   "execution_count": 38,
   "id": "e2b9d72b",
   "metadata": {},
   "outputs": [
    {
     "name": "stdout",
     "output_type": "stream",
     "text": [
      "['S', 'A', 'N', 'A', 'L']\n"
     ]
    }
   ],
   "source": [
    "# pr6: bir metin içerisindeki tüm harfleri büyük harf ile bir listede tutma \n",
    "word = 'sanal'\n",
    "uppercase_letters = [i.upper()  for i in word ]\n",
    "print(uppercase_letters)"
   ]
  },
  {
   "cell_type": "code",
   "execution_count": 44,
   "id": "07259b52",
   "metadata": {},
   "outputs": [
    {
     "name": "stdout",
     "output_type": "stream",
     "text": [
      "['esuB', 'remÖ', 'kuraF', 'nağoD']\n"
     ]
    }
   ],
   "source": [
    "#pr7 : Kelime listesindeki tüm kelimeleri tersine çeviren ayrı bir liste oluşturma\n",
    "words = ['Buse','Ömer','Faruk','Doğan']\n",
    "reversed_words = [word[::-1]  for word in words ]\n",
    "print(reversed_words)"
   ]
  },
  {
   "cell_type": "code",
   "execution_count": 82,
   "id": "8a513b58",
   "metadata": {},
   "outputs": [
    {
     "name": "stdout",
     "output_type": "stream",
     "text": [
      "Lütfen bir kelime giriniz : selam\n",
      "['e', 'a']\n"
     ]
    }
   ],
   "source": [
    "#pr8 : bir kelime içerisinde sesli harfleri filtreleyen ve filtrelenmiş sesli harfleri ayrı bir listede tutan\n",
    "vowels = \"aeıioöuüAEIİOÖUÜ\"\n",
    "\n",
    "word1 = input('Lütfen bir kelime giriniz : ')\n",
    "only_vowels = [ letter for letter in word1 if letter in vowels]\n",
    "print(only_vowels)"
   ]
  },
  {
   "cell_type": "code",
   "execution_count": 46,
   "id": "452a3979",
   "metadata": {},
   "outputs": [
    {
     "name": "stdout",
     "output_type": "stream",
     "text": [
      "['Tek', 'Çift', 'Tek', 'Çift', 'Tek']\n"
     ]
    }
   ],
   "source": [
    "#pr9 : bir sayılar listesi içerisinde Sayı tek ise ilgili indexte ki sayının değeri tek çift ise çift\n",
    "# yazan listeyi oluşturunuz\n",
    "# sadece döngü içerisindeki verileri ayrı listede tutulacaksa\n",
    "#   [dongüdeki_eleman  for dongüdeki_eleman in liste ]\n",
    "\n",
    "#döngüyle beraber bazı koşullarımız olabilir (sadece if için bu kural geçerlidir.)\n",
    "#[dongüdeki_eleman  for dongüdeki_eleman in liste if koşul ]\n",
    "\n",
    "#döngüyle beraber bazı koşullarımız olabilir if ve else birlikteyse\n",
    "# [dongüdeki_eleman  if_else koşulları  for dongüdeki_eleman in liste ]\n",
    "nums3 = [i for i in range(1,11)]\n",
    "tek_cift_listesi = ['Çift' if num %2==0  else 'Tek' for num in nums]\n",
    "print(tek_cift_listesi)"
   ]
  },
  {
   "cell_type": "code",
   "execution_count": 48,
   "id": "b2357490",
   "metadata": {},
   "outputs": [
    {
     "name": "stdout",
     "output_type": "stream",
     "text": [
      "['Sessiz : M', 'Sesli: e ', 'Sessiz : r', 'Sessiz : h', 'Sesli: a ', 'Sessiz : b', 'Sesli: a ', 'Sessiz : l', 'Sesli: a ', 'Sessiz : r']\n"
     ]
    }
   ],
   "source": [
    "#pr10: bir kelime içerisinde her bir harfin  sesli mi sessiz mi olduğunu ayrı bir listede tutan listeyi oluştur\n",
    "vowels = \"aeıioöuüAEIİOÖUÜ\"\n",
    "kelime2 = 'Merhabalar'\n",
    "char_types = [f'Sesli: {letter} ' if letter in vowels else f'Sessiz : {letter}'  for letter in kelime2]\n",
    "print(char_types)"
   ]
  },
  {
   "cell_type": "code",
   "execution_count": 49,
   "id": "b65dd35d",
   "metadata": {},
   "outputs": [],
   "source": [
    "# set :  {}\n",
    "# benzersiz listelerdir.\n",
    "# sırasızdır, index ile arama mümkün değildir."
   ]
  },
  {
   "cell_type": "code",
   "execution_count": 50,
   "id": "5bb4e1a3",
   "metadata": {},
   "outputs": [
    {
     "name": "stdout",
     "output_type": "stream",
     "text": [
      "{1, 2, 3, 4, 5, 6}\n"
     ]
    }
   ],
   "source": [
    "my_set = {1,1,2,2,3,3,4,4,5,5,6,6}\n",
    "print(my_set)"
   ]
  },
  {
   "cell_type": "code",
   "execution_count": 51,
   "id": "27ebbea8",
   "metadata": {},
   "outputs": [
    {
     "name": "stdout",
     "output_type": "stream",
     "text": [
      "[1, 2, 3, 4, 5, 6, 78]\n"
     ]
    }
   ],
   "source": [
    "# mevcut bir liste içerisinde tekrarlayan elemanları tek elemanlı şekile indirgeyip ayrı bir liste içerisinde tutunuz. \n",
    "# not : set tipinde olmayacaktır liste tipinde olacaktır.\n",
    "liste = [1,2,3,4,5,6,78,78,4,4,5,5,6,6]\n",
    "unique_numbers = list(set(liste))\n",
    "print(unique_numbers)"
   ]
  },
  {
   "cell_type": "code",
   "execution_count": 54,
   "id": "f3e035f6",
   "metadata": {},
   "outputs": [
    {
     "name": "stdout",
     "output_type": "stream",
     "text": [
      "1\n"
     ]
    }
   ],
   "source": [
    "print(unique_numbers[0])"
   ]
  },
  {
   "cell_type": "code",
   "execution_count": 56,
   "id": "76bcab13",
   "metadata": {},
   "outputs": [
    {
     "name": "stdout",
     "output_type": "stream",
     "text": [
      "{1, 2, 3, 'Buse', 'Ömer', 'Selam'}\n"
     ]
    }
   ],
   "source": [
    "set1 = {\"Buse\",\"Ömer\",1,2,3}\n",
    "set1.add('Selam')\n",
    "print(set1)"
   ]
  },
  {
   "cell_type": "code",
   "execution_count": 61,
   "id": "3ddd1c7c",
   "metadata": {},
   "outputs": [
    {
     "name": "stdout",
     "output_type": "stream",
     "text": [
      "10\n"
     ]
    }
   ],
   "source": [
    "# tuple : ()\n",
    "# sıralıdır, indekslerden erişim sağlanabilir\n",
    "# değiştirilemez (immutable)\n",
    "my_tuple = (10,20,30,40,20)\n",
    "print(my_tuple[0])"
   ]
  },
  {
   "cell_type": "code",
   "execution_count": 62,
   "id": "0808efd7",
   "metadata": {},
   "outputs": [
    {
     "name": "stdout",
     "output_type": "stream",
     "text": [
      "2\n"
     ]
    }
   ],
   "source": [
    "print(my_tuple.count(20))"
   ]
  },
  {
   "cell_type": "code",
   "execution_count": 67,
   "id": "4f305cb1",
   "metadata": {},
   "outputs": [
    {
     "name": "stdout",
     "output_type": "stream",
     "text": [
      "{'İsim': 'Ali', 'yaş': 25, 'Şehir': 'İstanbul'}\n"
     ]
    }
   ],
   "source": [
    "# dict : {} \n",
    "# Dictionary anahtar değer şeklinde tutulan verilerdir.\n",
    "person = {\n",
    "    'İsim':\"Ali\",\n",
    "    'yaş':25,\n",
    "    'Şehir': 'İzmir',\n",
    "    'Şehir': 'İstanbul'\n",
    "}\n",
    "print(person)"
   ]
  },
  {
   "cell_type": "code",
   "execution_count": 68,
   "id": "a7a992ad",
   "metadata": {},
   "outputs": [
    {
     "name": "stdout",
     "output_type": "stream",
     "text": [
      "Kişinin yaşı : 25\n"
     ]
    }
   ],
   "source": [
    "print(f'Kişinin yaşı : {person[\"yaş\"]}')"
   ]
  },
  {
   "cell_type": "code",
   "execution_count": 69,
   "id": "9de7e482",
   "metadata": {},
   "outputs": [
    {
     "name": "stdout",
     "output_type": "stream",
     "text": [
      "{'İsim': 'Ali', 'yaş': 25, 'Şehir': 'Ankara'}\n"
     ]
    }
   ],
   "source": [
    "person['Şehir'] = 'Ankara'\n",
    "print(person)"
   ]
  },
  {
   "cell_type": "code",
   "execution_count": 70,
   "id": "f5d71302",
   "metadata": {},
   "outputs": [],
   "source": [
    "kisi = {\n",
    "    \"name\":\"Buse\",\n",
    "    \"surname\":\"Doğan\",\n",
    "    'diller': ['C#','Python','JavaScript']\n",
    "}"
   ]
  },
  {
   "cell_type": "code",
   "execution_count": 71,
   "id": "7d514fde",
   "metadata": {},
   "outputs": [
    {
     "name": "stdout",
     "output_type": "stream",
     "text": [
      "dict_keys(['name', 'surname', 'diller'])\n"
     ]
    }
   ],
   "source": [
    "# keys : ilgili dictionary nin anahtar larını okumamızı sağlar.\n",
    "print(kisi.keys())"
   ]
  },
  {
   "cell_type": "code",
   "execution_count": 72,
   "id": "12392fb8",
   "metadata": {},
   "outputs": [
    {
     "name": "stdout",
     "output_type": "stream",
     "text": [
      "dict_values(['Buse', 'Doğan', ['C#', 'Python', 'JavaScript']])\n"
     ]
    }
   ],
   "source": [
    "# values : ilgili sözlüğün değerlerini okumamızı sağlar.\n",
    "print(kisi.values())"
   ]
  },
  {
   "cell_type": "code",
   "execution_count": 73,
   "id": "413036b8",
   "metadata": {},
   "outputs": [
    {
     "name": "stdout",
     "output_type": "stream",
     "text": [
      "dict_items([('name', 'Buse'), ('surname', 'Doğan'), ('diller', ['C#', 'Python', 'JavaScript'])])\n"
     ]
    }
   ],
   "source": [
    "# items : ilgili anahtar-değer çiftlerini bir tuple olarak gösterir\n",
    "print(kisi.items())"
   ]
  },
  {
   "cell_type": "code",
   "execution_count": 75,
   "id": "e3c52b42",
   "metadata": {},
   "outputs": [
    {
     "name": "stdout",
     "output_type": "stream",
     "text": [
      "['C#', 'Python', 'JavaScript']\n"
     ]
    }
   ],
   "source": [
    "# get : ilgili anahtar verisine göre güvenli bir şekilde değeri getirme.\n",
    "dil = kisi.get(\"diller\")\n",
    "print(dil)"
   ]
  },
  {
   "cell_type": "code",
   "execution_count": 76,
   "id": "a849c92e",
   "metadata": {},
   "outputs": [
    {
     "name": "stdout",
     "output_type": "stream",
     "text": [
      "Bilinmiyor\n"
     ]
    }
   ],
   "source": [
    "yas = kisi.get('yas','Bilinmiyor')\n",
    "print(yas)"
   ]
  },
  {
   "cell_type": "code",
   "execution_count": 77,
   "id": "f89ee858",
   "metadata": {},
   "outputs": [
    {
     "name": "stdout",
     "output_type": "stream",
     "text": [
      "{'name': 'Buse', 'surname': 'Doğan', 'diller': ['C#', 'Python', 'JavaScript'], 'meslek': 'Yazılım Geliştirici', 'Şehir': 'İstanbul'}\n"
     ]
    }
   ],
   "source": [
    "# update : bir anahtar-değer çifti eklemek için veya güncellemek için kullanılır.\n",
    "kisi.update({'meslek':'Yazılım Geliştirici','Şehir':'İstanbul'})\n",
    "print(kisi)"
   ]
  },
  {
   "cell_type": "code",
   "execution_count": 78,
   "id": "d1483095",
   "metadata": {},
   "outputs": [
    {
     "name": "stdout",
     "output_type": "stream",
     "text": [
      "{'name': 'Buse', 'surname': 'Doğan', 'diller': ['C#', 'Python', 'JavaScript'], 'meslek': 'İç İşleri Bakanı', 'Şehir': 'İstanbul'}\n"
     ]
    }
   ],
   "source": [
    "kisi.update({'meslek':'İç İşleri Bakanı'})\n",
    "print(kisi)"
   ]
  },
  {
   "cell_type": "code",
   "execution_count": 81,
   "id": "d57f61d4",
   "metadata": {},
   "outputs": [
    {
     "name": "stdout",
     "output_type": "stream",
     "text": [
      "Aramak istediğiniz kişinin adını yazınız : Ahmet Kaya\n",
      "0555 123 45 67\n"
     ]
    }
   ],
   "source": [
    "# Telefon rehberi kullanıcı aramak istediği kişinin numarasını görsün\n",
    "\n",
    "phone_book = {\n",
    "    'Ahmet Kaya':\"0555 123 45 67\",\n",
    "    'Ahmet Taş':\"0534 123 54 78\",\n",
    "    'Buse Doğan': '0534 889 23 85',\n",
    "    'Ömer Doğan':'0541 124 54 78'\n",
    "}\n",
    "isim = input('Aramak istediğiniz kişinin adını yazınız : ')\n",
    "tel_no = phone_book.get(isim,'Aradığınız kişi kayıtlı değil.')\n",
    "print(tel_no)\n"
   ]
  },
  {
   "cell_type": "code",
   "execution_count": 85,
   "id": "230ec8a9",
   "metadata": {},
   "outputs": [
    {
     "name": "stdout",
     "output_type": "stream",
     "text": [
      "Almak istediğiniz meyvenin adını giriniz : Muz\n",
      "Muz meyvesinden kaç kg almak istersiniz :20\n",
      "{'Kivi': 50, 'Elma': 100, 'Muz': 16, 'Portakal': 20}\n"
     ]
    }
   ],
   "source": [
    "# stok takip sistemi.\n",
    "manav = {\n",
    "    'Kivi':50,\n",
    "    'Elma':100,\n",
    "    'Muz': 36,\n",
    "    'Portakal':20\n",
    "}\n",
    "# Kullanıcıdan hangi meyveyi alacaksa onu seçmesini sağlayın \n",
    "# meyveden kaç kilo acaksa o meyvenin stoğundan düşsün \n",
    "# Muz 36 kilo mevcut ama kullanıcı 40 kilo istedi bu durumda mesaj olarak stokta yeterli ürün yok yazsın.\n",
    "meyve_adi = input('Almak istediğiniz meyvenin adını giriniz : ')\n",
    "meyve_miktari = int(input(f'{meyve_adi} meyvesinden kaç kg almak istersiniz :'))\n",
    "if meyve_miktari > manav[meyve_adi]:\n",
    "    print(f'{meyve_adi} meyvesinden maximum : {manav[meyve_adi]} kg alabilirsiniz.')\n",
    "else:\n",
    "    manav[meyve_adi] -= meyve_miktari\n",
    "    print(manav)\n"
   ]
  },
  {
   "cell_type": "code",
   "execution_count": 87,
   "id": "56d5c4a7",
   "metadata": {},
   "outputs": [
    {
     "name": "stdout",
     "output_type": "stream",
     "text": [
      "Inception filminin yönetmeni : Christopher Nolan\n",
      "Interstellar filminin yönetmeni : Christopher Nolan\n",
      "Matrix filminin puanı : 8.7\n",
      "Harry Potter 1 filminin oyuncuları : ['Harry Potter', 'Ron Weasley', 'Hermione Granger']\n",
      "Harry Potter 1 filminin bütçesi : 125000000\n",
      "Harry Potter 1 filminin görüntü yönetmeni : John Seale\n",
      "Harry Potter 1 filminin oyuncular listesinin 2. indexteki kişi : Hermione Granger\n"
     ]
    }
   ],
   "source": [
    "# film arşivi \n",
    "movies = {\n",
    "    \"Inception\": {'yıl':2010, 'puan':8.8, 'yönetmen':'Christopher Nolan'},\n",
    "    'Interstellar': {'yıl':2014, 'puan':8.6,'yönetmen':'Christopher Nolan'},\n",
    "    'Matrix': {'yıl':1999, 'puan':8.7, 'yönetmen':'Lana Wachowski'},\n",
    "    'Harry Potter 1': \n",
    "    {\n",
    "        'yıl': 2001,\n",
    "        'puan':8.2,\n",
    "        'yönetmen':'Chris Columbus',\n",
    "        'karakterler': ['Harry Potter','Ron Weasley','Hermione Granger'],\n",
    "        'detay':{\n",
    "            'budget':125000000,\n",
    "            'cinematographer' :'John Seale'\n",
    "        }\n",
    "    }\n",
    "}\n",
    "\n",
    "inception_director = movies['Inception']['yönetmen']\n",
    "interstellar_director = movies['Interstellar']['yönetmen']\n",
    "matrix_puan = movies['Matrix']['puan']\n",
    "harry_potter_oyuncular = movies['Harry Potter 1']['karakterler']\n",
    "harry_potter_butce = movies['Harry Potter 1']['detay']['budget']\n",
    "harry_potter_goruntu_yonetmeni = movies['Harry Potter 1']['detay']['cinematographer']\n",
    "harry_potter_second_index_character = movies['Harry Potter 1']['karakterler'][2]\n",
    "\n",
    "print(f'Inception filminin yönetmeni : {inception_director}')\n",
    "print(f'Interstellar filminin yönetmeni : {interstellar_director}')\n",
    "print(f'Matrix filminin puanı : {matrix_puan}')\n",
    "print(f'Harry Potter 1 filminin oyuncuları : {harry_potter_oyuncular}')\n",
    "print(f'Harry Potter 1 filminin bütçesi : {harry_potter_butce}')\n",
    "print(f'Harry Potter 1 filminin görüntü yönetmeni : {harry_potter_goruntu_yonetmeni}')\n",
    "print(f'Harry Potter 1 filminin oyuncular listesinin 2. indexteki kişi : {harry_potter_second_index_character}')"
   ]
  },
  {
   "cell_type": "code",
   "execution_count": 99,
   "id": "fbc85435",
   "metadata": {},
   "outputs": [],
   "source": [
    "# fonksiyonlar: \n",
    "# değer döndüren\n",
    "# değer döndürmeyen\n",
    "# parametreli \n",
    "# parametresiz\n",
    "#  değer döndüren parametreli fonksiyon oluşturma\n",
    "# tanımlama \n",
    "def toplama(a,b):\n",
    "    return a +b\n",
    "def cikarma(a,b):\n",
    "    return a-b\n",
    "def bolme(a,b):\n",
    "    if b ==0:\n",
    "        print('Girmiş Bölen kısım 0 olamaz')\n",
    "    else:\n",
    "        return a / b\n",
    "\n",
    "def carpma(a,b):\n",
    "    return a*b\n",
    "def mod(a,b):\n",
    "    return a%b\n",
    "\n",
    "\n",
    "def ekrana_yaz(sayi1, sayi2, operator,sonuc):\n",
    "    print(f'{sayi1} {operator} {sayi2} = {sonuc}')\n"
   ]
  },
  {
   "cell_type": "code",
   "execution_count": 101,
   "id": "b10139dc",
   "metadata": {},
   "outputs": [
    {
     "name": "stdout",
     "output_type": "stream",
     "text": [
      "1. sayıyı giriniz.25\n",
      "2. sayıyı giriniz.96\n",
      "lütfen işlemi seçiniz (+,-,/,*,%)+\n",
      "25 121 96 = +\n"
     ]
    }
   ],
   "source": [
    "sayi1 = int(input('1. sayıyı giriniz.'))\n",
    "sayi2 = int(input('2. sayıyı giriniz.'))\n",
    "operator = input('lütfen işlemi seçiniz (+,-,/,*,%)')\n",
    "\n",
    "if operator == '+':\n",
    "    toplam = toplama(sayi1,sayi2)\n",
    "    ekrana_yaz(sayi1,sayi2,toplam,operator)\n",
    "    \n",
    "elif operator == '-':\n",
    "    sonuc = cikarma(sayi1,sayi2)\n",
    "    print(f'{sayi1} - {sayi2} = {sonuc}')\n",
    "    \n",
    "elif operator == '/':\n",
    "        sonuc = bolme(sayi1,sayi2)\n",
    "        print(f'{sayi1} / {sayi2} = {sonuc}')\n",
    "elif operator == '*':\n",
    "    sonuc = carpma(sayi1,sayi2)\n",
    "    print(f'{sayi1} * {sayi2} = {sonuc}')\n",
    "    \n",
    "elif operator == '%':\n",
    "    sonuc = mod(sayi1,sayi2)\n",
    "    print(f'{sayi1} % {sayi2} = {sonuc}')\n",
    "    \n",
    "else:\n",
    "    print(\"Geçersiz karakter girdiniz.\")"
   ]
  },
  {
   "cell_type": "code",
   "execution_count": 90,
   "id": "d7cc9900",
   "metadata": {},
   "outputs": [],
   "source": []
  },
  {
   "cell_type": "code",
   "execution_count": null,
   "id": "58ba2f37",
   "metadata": {},
   "outputs": [],
   "source": []
  }
 ],
 "metadata": {
  "kernelspec": {
   "display_name": "Python 3 (ipykernel)",
   "language": "python",
   "name": "python3"
  },
  "language_info": {
   "codemirror_mode": {
    "name": "ipython",
    "version": 3
   },
   "file_extension": ".py",
   "mimetype": "text/x-python",
   "name": "python",
   "nbconvert_exporter": "python",
   "pygments_lexer": "ipython3",
   "version": "3.10.9"
  }
 },
 "nbformat": 4,
 "nbformat_minor": 5
}
