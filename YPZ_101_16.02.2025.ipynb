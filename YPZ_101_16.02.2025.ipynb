{
 "cells": [
  {
   "cell_type": "code",
   "execution_count": 1,
   "id": "3d9b5037",
   "metadata": {},
   "outputs": [],
   "source": [
    "import numpy as np"
   ]
  },
  {
   "cell_type": "code",
   "execution_count": 2,
   "id": "02fe0e7b",
   "metadata": {},
   "outputs": [
    {
     "data": {
      "text/plain": [
       "array([[ 1,  2,  3,  0],\n",
       "       [ 5,  6,  7, 22],\n",
       "       [10, 11,  2,  3],\n",
       "       [14, 15, 16,  3]])"
      ]
     },
     "execution_count": 2,
     "metadata": {},
     "output_type": "execute_result"
    }
   ],
   "source": [
    "A = np.array([[1,2,3,0],[5,6,7,22],[10,11,2,3],[14,15,16,3]])\n",
    "A"
   ]
  },
  {
   "cell_type": "code",
   "execution_count": 3,
   "id": "ef168d6d",
   "metadata": {},
   "outputs": [
    {
     "data": {
      "text/plain": [
       "120"
      ]
     },
     "execution_count": 3,
     "metadata": {},
     "output_type": "execute_result"
    }
   ],
   "source": [
    "A.sum()"
   ]
  },
  {
   "cell_type": "code",
   "execution_count": 4,
   "id": "33032b4b",
   "metadata": {},
   "outputs": [
    {
     "data": {
      "text/plain": [
       "array([62, 19, 49, 99, 61, 45, 94, 64, 88, 40, 74, 31, 15, 61, 13, 86, 23,\n",
       "       93, 60, 61])"
      ]
     },
     "execution_count": 4,
     "metadata": {},
     "output_type": "execute_result"
    }
   ],
   "source": [
    "b = np.random.randint(10,100,20)\n",
    "b"
   ]
  },
  {
   "cell_type": "code",
   "execution_count": 5,
   "id": "b13dacbb",
   "metadata": {},
   "outputs": [
    {
     "data": {
      "text/plain": [
       "array([19, 49, 99, 61, 45])"
      ]
     },
     "execution_count": 5,
     "metadata": {},
     "output_type": "execute_result"
    }
   ],
   "source": [
    "# 1. indexten 5. indexe kadar tüm veriler\n",
    "b[1:6]"
   ]
  },
  {
   "cell_type": "code",
   "execution_count": 6,
   "id": "ea44ad60",
   "metadata": {},
   "outputs": [
    {
     "data": {
      "text/plain": [
       "array([ 1,  2,  3,  4,  5,  6,  7,  8,  9, 10, 11, 12, 13, 14, 15, 16, 17,\n",
       "       18, 19])"
      ]
     },
     "execution_count": 6,
     "metadata": {},
     "output_type": "execute_result"
    }
   ],
   "source": [
    "ar = np.arange(1,20)\n",
    "ar"
   ]
  },
  {
   "cell_type": "code",
   "execution_count": 7,
   "id": "8ad97bf9",
   "metadata": {},
   "outputs": [
    {
     "data": {
      "text/plain": [
       "array([ 1,  5,  3,  5,  5,  5,  7,  5,  9,  5, 11,  5, 13,  5, 15,  5, 17,\n",
       "        5, 19])"
      ]
     },
     "execution_count": 7,
     "metadata": {},
     "output_type": "execute_result"
    }
   ],
   "source": [
    "# ar dizisinin içindeki elemanlarından 2 ye tam bölünenlerin yerine 5 yazan ve yeni listede tutan kod\n",
    "rep1 = np.where(ar %2 ==0,5, ar)\n",
    "rep1"
   ]
  },
  {
   "cell_type": "code",
   "execution_count": 8,
   "id": "f5c3ab8c",
   "metadata": {},
   "outputs": [
    {
     "data": {
      "text/plain": [
       "array([ 1,  5,  3,  5,  5,  5,  7,  5,  9,  5, 11,  5, 13,  5, 85,  5, 17,\n",
       "        5, 19])"
      ]
     },
     "execution_count": 8,
     "metadata": {},
     "output_type": "execute_result"
    }
   ],
   "source": [
    "deneme = np.where(rep1 == 15, 85, rep1)\n",
    "deneme"
   ]
  },
  {
   "cell_type": "code",
   "execution_count": 9,
   "id": "71f57a50",
   "metadata": {},
   "outputs": [
    {
     "data": {
      "text/plain": [
       "array([ 1.,  5.,  6., nan, 20., 87., nan, 36., 87., nan])"
      ]
     },
     "execution_count": 9,
     "metadata": {},
     "output_type": "execute_result"
    }
   ],
   "source": [
    "a = np.array([1,5,6, np.nan, 20,87,np.nan, 36,87,np.nan])\n",
    "a"
   ]
  },
  {
   "cell_type": "code",
   "execution_count": 10,
   "id": "35e16d85",
   "metadata": {},
   "outputs": [
    {
     "data": {
      "text/plain": [
       "array([False, False, False,  True, False, False,  True, False, False,\n",
       "        True])"
      ]
     },
     "execution_count": 10,
     "metadata": {},
     "output_type": "execute_result"
    }
   ],
   "source": [
    "np.isnan(a)"
   ]
  },
  {
   "cell_type": "code",
   "execution_count": 11,
   "id": "55417d7f",
   "metadata": {},
   "outputs": [
    {
     "data": {
      "text/plain": [
       "array([  1.,   5.,   6., 102.,  20.,  87., 102.,  36.,  87., 102.])"
      ]
     },
     "execution_count": 11,
     "metadata": {},
     "output_type": "execute_result"
    }
   ],
   "source": [
    "a[np.isnan(a)] = 102\n",
    "a"
   ]
  },
  {
   "cell_type": "code",
   "execution_count": 12,
   "id": "5f76b1f8",
   "metadata": {},
   "outputs": [
    {
     "data": {
      "text/plain": [
       "array([10, 20, 30, 40, 50, 60])"
      ]
     },
     "execution_count": 12,
     "metadata": {},
     "output_type": "execute_result"
    }
   ],
   "source": [
    "c1 = np.arange(10,61,10)\n",
    "c1"
   ]
  },
  {
   "cell_type": "code",
   "execution_count": 14,
   "id": "4c33a586",
   "metadata": {},
   "outputs": [
    {
     "data": {
      "text/plain": [
       "array([12, 25, 30, 44, 50, 65])"
      ]
     },
     "execution_count": 14,
     "metadata": {},
     "output_type": "execute_result"
    }
   ],
   "source": [
    "c2  = np.array([12,25,30,44,50,65])\n",
    "c2"
   ]
  },
  {
   "cell_type": "code",
   "execution_count": 15,
   "id": "ce179a2e",
   "metadata": {},
   "outputs": [
    {
     "data": {
      "text/plain": [
       "array([10, 20, 40, 60])"
      ]
     },
     "execution_count": 15,
     "metadata": {},
     "output_type": "execute_result"
    }
   ],
   "source": [
    "np.setdiff1d(c1,c2)"
   ]
  },
  {
   "cell_type": "code",
   "execution_count": 16,
   "id": "0e1f683e",
   "metadata": {},
   "outputs": [
    {
     "data": {
      "text/plain": [
       "array([12, 25, 44, 65])"
      ]
     },
     "execution_count": 16,
     "metadata": {},
     "output_type": "execute_result"
    }
   ],
   "source": [
    "np.setdiff1d(c2,c1)"
   ]
  },
  {
   "cell_type": "code",
   "execution_count": 17,
   "id": "69819c95",
   "metadata": {},
   "outputs": [
    {
     "data": {
      "text/plain": [
       "array([10, 11, 12, 13, 14, 15, 16, 17, 18, 19, 20, 21, 22, 23, 24, 25, 26,\n",
       "       27, 28, 29])"
      ]
     },
     "execution_count": 17,
     "metadata": {},
     "output_type": "execute_result"
    }
   ],
   "source": [
    "a2 = np.arange(10,30)\n",
    "a2"
   ]
  },
  {
   "cell_type": "code",
   "execution_count": 18,
   "id": "078db109",
   "metadata": {},
   "outputs": [
    {
     "data": {
      "text/plain": [
       "array([29, 28, 27, 26, 25, 24, 23, 22, 21, 20, 19, 18, 17, 16, 15, 14, 13,\n",
       "       12, 11, 10])"
      ]
     },
     "execution_count": 18,
     "metadata": {},
     "output_type": "execute_result"
    }
   ],
   "source": [
    "a2[::-1]"
   ]
  },
  {
   "cell_type": "code",
   "execution_count": 19,
   "id": "786191dd",
   "metadata": {},
   "outputs": [
    {
     "data": {
      "text/plain": [
       "array([29, 28, 27, 26, 25, 24, 23, 22, 21, 20, 19, 18, 17, 16, 15, 14, 13,\n",
       "       12, 11, 10])"
      ]
     },
     "execution_count": 19,
     "metadata": {},
     "output_type": "execute_result"
    }
   ],
   "source": [
    "np.flip(a2)"
   ]
  },
  {
   "cell_type": "code",
   "execution_count": 21,
   "id": "4fe43049",
   "metadata": {},
   "outputs": [
    {
     "data": {
      "text/plain": [
       "array([[ 3,  2,  8,  1],\n",
       "       [ 4,  6,  9,  5],\n",
       "       [25, 35, 45, 55],\n",
       "       [12, 24, 36, 78]])"
      ]
     },
     "execution_count": 21,
     "metadata": {},
     "output_type": "execute_result"
    }
   ],
   "source": [
    "a3 = np.array([[3,2,8,1],[4,6,9,5],[25,35,45,55],[12,24,36,78]])\n",
    "a3"
   ]
  },
  {
   "cell_type": "code",
   "execution_count": 22,
   "id": "80013708",
   "metadata": {},
   "outputs": [
    {
     "data": {
      "text/plain": [
       "array([[12, 24, 36, 78],\n",
       "       [25, 35, 45, 55],\n",
       "       [ 4,  6,  9,  5],\n",
       "       [ 3,  2,  8,  1]])"
      ]
     },
     "execution_count": 22,
     "metadata": {},
     "output_type": "execute_result"
    }
   ],
   "source": [
    "a3[::-1,]"
   ]
  },
  {
   "cell_type": "code",
   "execution_count": 23,
   "id": "a1c0c310",
   "metadata": {},
   "outputs": [
    {
     "data": {
      "text/plain": [
       "array([[ 1,  8,  2,  3],\n",
       "       [ 5,  9,  6,  4],\n",
       "       [55, 45, 35, 25],\n",
       "       [78, 36, 24, 12]])"
      ]
     },
     "execution_count": 23,
     "metadata": {},
     "output_type": "execute_result"
    }
   ],
   "source": [
    "a3[:,::-1]"
   ]
  },
  {
   "cell_type": "code",
   "execution_count": 24,
   "id": "b40dfc0f",
   "metadata": {},
   "outputs": [
    {
     "data": {
      "text/plain": [
       "array([[78, 36, 24, 12],\n",
       "       [55, 45, 35, 25],\n",
       "       [ 5,  9,  6,  4],\n",
       "       [ 1,  8,  2,  3]])"
      ]
     },
     "execution_count": 24,
     "metadata": {},
     "output_type": "execute_result"
    }
   ],
   "source": [
    "a3[::-1,::-1]"
   ]
  },
  {
   "cell_type": "code",
   "execution_count": 26,
   "id": "917f370c",
   "metadata": {},
   "outputs": [
    {
     "data": {
      "text/plain": [
       "array([[  0,   1,   2,   3,   4,   5,   6,   7,   8,   9,  10],\n",
       "       [ 11,  12,  13,  14,  15,  16,  17,  18,  19,  20,  21],\n",
       "       [ 22,  23,  24,  25,  26,  27,  28,  29,  30,  31,  32],\n",
       "       [ 33,  34,  35,  36,  37,  38,  39,  40,  41,  42,  43],\n",
       "       [ 44,  45,  46,  47,  48,  49,  50,  51,  52,  53,  54],\n",
       "       [ 55,  56,  57,  58,  59,  60,  61,  62,  63,  64,  65],\n",
       "       [ 66,  67,  68,  69,  70,  71,  72,  73,  74,  75,  76],\n",
       "       [ 77,  78,  79,  80,  81,  82,  83,  84,  85,  86,  87],\n",
       "       [ 88,  89,  90,  91,  92,  93,  94,  95,  96,  97,  98],\n",
       "       [ 99, 100, 101, 102, 103, 104, 105, 106, 107, 108, 109],\n",
       "       [110, 111, 112, 113, 114, 115, 116, 117, 118, 119, 120]])"
      ]
     },
     "execution_count": 26,
     "metadata": {},
     "output_type": "execute_result"
    }
   ],
   "source": [
    "p1 = np.arange(0,121).reshape(11,11)\n",
    "p1"
   ]
  },
  {
   "cell_type": "code",
   "execution_count": 27,
   "id": "34a3ea43",
   "metadata": {},
   "outputs": [
    {
     "data": {
      "text/plain": [
       "array([20, 42, 63])"
      ]
     },
     "execution_count": 27,
     "metadata": {},
     "output_type": "execute_result"
    }
   ],
   "source": [
    "a1 = [5,6,7]\n",
    "a2 = [4,7,9]\n",
    "\n",
    "a3 = np.multiply(a1,a2)\n",
    "a3"
   ]
  },
  {
   "cell_type": "code",
   "execution_count": 28,
   "id": "69e58449",
   "metadata": {},
   "outputs": [
    {
     "data": {
      "text/plain": [
       "array([[ 36, 756, 961,  62, 793, 880, 564, 885, 688, 153],\n",
       "       [534, 679, 198,  18, 885, 245, 377, 545, 476, 691],\n",
       "       [356, 802, 628, 600,  12, 234, 874, 788, 372, 579],\n",
       "       [154, 835,  16, 153, 361, 710, 236, 671, 680, 428],\n",
       "       [831, 280, 453, 866, 749, 275, 183, 485, 197, 590],\n",
       "       [192, 635, 997, 766, 823, 844, 434, 474,  16, 514],\n",
       "       [404, 706, 832, 474, 143, 496,  73, 963,  97, 878],\n",
       "       [794, 918, 660,  34, 802, 667, 640, 562, 737, 108],\n",
       "       [660, 110, 649, 375, 343, 800, 488, 261, 488, 580],\n",
       "       [705, 916, 447, 177, 867, 451, 428,  87, 777, 628]])"
      ]
     },
     "execution_count": 28,
     "metadata": {},
     "output_type": "execute_result"
    }
   ],
   "source": [
    "mat1 = np.random.randint(0,1000,100).reshape(10,10)\n",
    "mat1"
   ]
  },
  {
   "cell_type": "code",
   "execution_count": 29,
   "id": "e54ccb50",
   "metadata": {},
   "outputs": [
    {
     "data": {
      "text/plain": [
       "array([756, 961, 793, 880, 564, 885, 688, 534, 679, 885, 545, 691, 802,\n",
       "       628, 600, 874, 788, 579, 835, 710, 671, 680, 831, 866, 749, 590,\n",
       "       635, 997, 766, 823, 844, 514, 706, 832, 963, 878, 794, 918, 660,\n",
       "       802, 667, 640, 562, 737, 660, 649, 800, 580, 705, 916, 867, 777,\n",
       "       628])"
      ]
     },
     "execution_count": 29,
     "metadata": {},
     "output_type": "execute_result"
    }
   ],
   "source": [
    "mat1[mat1>500]"
   ]
  },
  {
   "cell_type": "code",
   "execution_count": 31,
   "id": "0efef36c",
   "metadata": {},
   "outputs": [
    {
     "data": {
      "text/plain": [
       "array([[1, 0, 0, 0, 0, 0],\n",
       "       [0, 1, 0, 0, 0, 0],\n",
       "       [0, 0, 1, 0, 0, 0],\n",
       "       [0, 0, 0, 1, 0, 0],\n",
       "       [0, 0, 0, 0, 1, 0],\n",
       "       [0, 0, 0, 0, 0, 1]])"
      ]
     },
     "execution_count": 31,
     "metadata": {},
     "output_type": "execute_result"
    }
   ],
   "source": [
    "# birim matris (identity)\n",
    "I = np.eye(6).astype(int)\n",
    "I"
   ]
  },
  {
   "cell_type": "code",
   "execution_count": 32,
   "id": "2f48be50",
   "metadata": {},
   "outputs": [
    {
     "data": {
      "text/plain": [
       "array([[1, 0, 0, 0, 0, 0, 0, 0, 0],\n",
       "       [0, 2, 0, 0, 0, 0, 0, 0, 0],\n",
       "       [0, 0, 3, 0, 0, 0, 0, 0, 0],\n",
       "       [0, 0, 0, 4, 0, 0, 0, 0, 0],\n",
       "       [0, 0, 0, 0, 5, 0, 0, 0, 0],\n",
       "       [0, 0, 0, 0, 0, 6, 0, 0, 0],\n",
       "       [0, 0, 0, 0, 0, 0, 7, 0, 0],\n",
       "       [0, 0, 0, 0, 0, 0, 0, 8, 0],\n",
       "       [0, 0, 0, 0, 0, 0, 0, 0, 9]])"
      ]
     },
     "execution_count": 32,
     "metadata": {},
     "output_type": "execute_result"
    }
   ],
   "source": [
    "D = np.diag(np.arange(1,10))\n",
    "D"
   ]
  },
  {
   "cell_type": "code",
   "execution_count": 33,
   "id": "4141310b",
   "metadata": {},
   "outputs": [
    {
     "data": {
      "text/plain": [
       "array([[ 1.37760217, -0.44895162, -0.12594278,  0.77464347,  0.78967364],\n",
       "       [-1.66901482, -0.43261934,  1.28158785,  0.35192204, -2.25114712],\n",
       "       [ 1.13648765,  0.20434857,  0.28644415,  0.89672739, -0.69758294],\n",
       "       [ 1.26204971,  0.60366768,  0.49850497,  0.07475691,  0.55605038],\n",
       "       [ 0.15203643, -0.56228771,  0.40097882,  0.67167667, -1.27478883]])"
      ]
     },
     "execution_count": 33,
     "metadata": {},
     "output_type": "execute_result"
    }
   ],
   "source": [
    "M = np.random.randn(5,5)\n",
    "M"
   ]
  },
  {
   "cell_type": "code",
   "execution_count": 35,
   "id": "8719968f",
   "metadata": {},
   "outputs": [
    {
     "data": {
      "text/plain": [
       "array([[ 1.37760217, -0.44895162, -0.12594278,  0.77464347,  0.78967364],\n",
       "       [ 0.        , -0.43261934,  1.28158785,  0.35192204, -2.25114712],\n",
       "       [ 0.        ,  0.        ,  0.28644415,  0.89672739, -0.69758294],\n",
       "       [ 0.        ,  0.        ,  0.        ,  0.07475691,  0.55605038],\n",
       "       [ 0.        ,  0.        ,  0.        ,  0.        , -1.27478883]])"
      ]
     },
     "execution_count": 35,
     "metadata": {},
     "output_type": "execute_result"
    }
   ],
   "source": [
    "# üst üçgen matrisi\n",
    "U = np.triu(M)\n",
    "U"
   ]
  },
  {
   "cell_type": "code",
   "execution_count": 38,
   "id": "b171a035",
   "metadata": {},
   "outputs": [
    {
     "data": {
      "text/plain": [
       "array([[ 1.37760217,  0.        ,  0.        ,  0.        ,  0.        ],\n",
       "       [-1.66901482, -0.43261934,  0.        ,  0.        ,  0.        ],\n",
       "       [ 1.13648765,  0.20434857,  0.28644415,  0.        ,  0.        ],\n",
       "       [ 1.26204971,  0.60366768,  0.49850497,  0.07475691,  0.        ],\n",
       "       [ 0.15203643, -0.56228771,  0.40097882,  0.67167667, -1.27478883]])"
      ]
     },
     "execution_count": 38,
     "metadata": {},
     "output_type": "execute_result"
    }
   ],
   "source": [
    "#Alt üçgen\n",
    "L = np.tril(M)\n",
    "L"
   ]
  },
  {
   "cell_type": "code",
   "execution_count": 39,
   "id": "752a30e9",
   "metadata": {},
   "outputs": [
    {
     "data": {
      "text/plain": [
       "array([[23, 12, 15],\n",
       "       [24, 21, 16],\n",
       "       [19, 17, 18]])"
      ]
     },
     "execution_count": 39,
     "metadata": {},
     "output_type": "execute_result"
    }
   ],
   "source": [
    "m1 = np.random.randint(10,25,9).reshape(3,3)\n",
    "m1"
   ]
  },
  {
   "cell_type": "code",
   "execution_count": 40,
   "id": "52d89593",
   "metadata": {},
   "outputs": [
    {
     "data": {
      "text/plain": [
       "array([[23, 24, 19],\n",
       "       [12, 21, 17],\n",
       "       [15, 16, 18]])"
      ]
     },
     "execution_count": 40,
     "metadata": {},
     "output_type": "execute_result"
    }
   ],
   "source": [
    "np.transpose(m1)"
   ]
  },
  {
   "cell_type": "code",
   "execution_count": 41,
   "id": "47849ad5",
   "metadata": {},
   "outputs": [
    {
     "data": {
      "text/plain": [
       "array([[23, 24, 19],\n",
       "       [12, 21, 17],\n",
       "       [15, 16, 18]])"
      ]
     },
     "execution_count": 41,
     "metadata": {},
     "output_type": "execute_result"
    }
   ],
   "source": [
    "m1.T"
   ]
  },
  {
   "cell_type": "code",
   "execution_count": 42,
   "id": "2ce3853d",
   "metadata": {},
   "outputs": [
    {
     "data": {
      "text/plain": [
       "1037.0000000000002"
      ]
     },
     "execution_count": 42,
     "metadata": {},
     "output_type": "execute_result"
    }
   ],
   "source": [
    "#Determinant\n",
    "np.linalg.det(m1)"
   ]
  },
  {
   "cell_type": "code",
   "execution_count": 45,
   "id": "2b79c3c3",
   "metadata": {},
   "outputs": [
    {
     "name": "stdout",
     "output_type": "stream",
     "text": [
      "Ortalama Sıcaklık : 22.29 C\n",
      "Sıcaklık Değişkenliği (Standart sapma): 2.66\n"
     ]
    }
   ],
   "source": [
    "# 1 Haftalık sıcaklık verisi : \n",
    "temperatures = np.array([22,24,18,25,26,21,20])\n",
    "ortalama_sicaklik = np.mean(temperatures)\n",
    "std_sapma = np.std(temperatures)\n",
    "\n",
    "print(f'Ortalama Sıcaklık : {ortalama_sicaklik:.2f} C')\n",
    "print(f'Sıcaklık Değişkenliği (Standart sapma): {std_sapma:.2f}')"
   ]
  },
  {
   "cell_type": "code",
   "execution_count": 49,
   "id": "19ba5690",
   "metadata": {},
   "outputs": [
    {
     "name": "stdout",
     "output_type": "stream",
     "text": [
      "Günlük getiri (%) : [ 1.37931034 -2.04081633  2.77777778  1.35135135  0.66666667  1.98675497]\n",
      "Ortalama günlük getiri : 1.02 %\n"
     ]
    }
   ],
   "source": [
    "# Hisse senedi uygulaması : \n",
    "# Getiri = ((Bugünkü fiyat - dünkü fiyat) / Dünkü fiyat) *100 \n",
    "prices = np.array([145,147,144,148,150,151,154])\n",
    "getiriler_farki = np.diff(prices)\n",
    "\n",
    "returns = getiriler_farki / prices[:-1] * 100\n",
    "print(f'Günlük getiri (%) : {returns}')\n",
    "print(f'Ortalama günlük getiri : {np.mean(returns):.2f} %')\n"
   ]
  },
  {
   "cell_type": "code",
   "execution_count": 52,
   "id": "906eb185",
   "metadata": {},
   "outputs": [
    {
     "name": "stdout",
     "output_type": "stream",
     "text": [
      "Yıllık Nüfus tahmini : [1000000 1020201 1040810 1061836 1083287 1105170 1127496 1150273 1173510\n",
      " 1197217 1221402]\n"
     ]
    }
   ],
   "source": [
    "# başlangıç nüfusu 1000000 olan ülkenin yıllık büyüme oranı %2 dir. 10 yıllık Nüfus tahmini yapınız\n",
    "\n",
    "# P(t) = P0 * e^rt\n",
    "# P(t) = t yıl sonra beklenen nüfus\n",
    "# P0 = Başlangıç nüfusu\n",
    "# e = euler sabiti (2.718)\n",
    "# r = yıllık büyüme oranı \n",
    "# t = geçen zaman \n",
    "# P(0),P(1), P(2), ... ,P(10)\n",
    "\n",
    "baslangic_nufus = 1000000\n",
    "buyume_orani = 0.02 # %2 lik büyüme oranı \n",
    "yillar = np.arange(11)\n",
    "populasyon = baslangic_nufus * np.exp(buyume_orani*yillar)\n",
    "\n",
    "print(f'Yıllık Nüfus tahmini : {populasyon.astype(int)}')\n"
   ]
  },
  {
   "cell_type": "code",
   "execution_count": 59,
   "id": "029e6338",
   "metadata": {},
   "outputs": [
    {
     "name": "stdout",
     "output_type": "stream",
     "text": [
      "Ortalama Günlük Hata Oranı : 2.36 %\n"
     ]
    }
   ],
   "source": [
    "# 1000 ürün içerisinde 10 farklı günde kaç adet hatalı ürün varsa onun hata oranını Ortalama günlük çıktı veriniz\n",
    "total=1000\n",
    "np.random.seed(25)\n",
    "hatali_urun = np.random.randint(5,35, 10)\n",
    "hatali_urun_ort = np.mean(hatali_urun)\n",
    "\n",
    "sonuc = hatali_urun_ort / total * 100\n",
    "\n",
    "print(f'Ortalama Günlük Hata Oranı : {sonuc:.2f} %')\n",
    "\n",
    "# günlük ortalama hata sayisi = (hatalı_urun_sayisi_ortalaması / total) *100"
   ]
  },
  {
   "cell_type": "code",
   "execution_count": 62,
   "id": "bfc69552",
   "metadata": {},
   "outputs": [
    {
     "name": "stdout",
     "output_type": "stream",
     "text": [
      "Aylık Fatura : 733.23 TL\n"
     ]
    }
   ],
   "source": [
    "# Aylık elektrik faturası tahmini yapan uygulama\n",
    "np.random.seed(35)\n",
    "# Günlük elektrik tüketimi kwH cinsinden\n",
    "daily_usage = np.random.uniform(5,20, 30)\n",
    "\n",
    "# kwh  2,07\n",
    "aylik_fatura = np.sum(daily_usage) * 2.07\n",
    "print(f'Aylık Fatura : {aylik_fatura:.2f} TL')"
   ]
  },
  {
   "cell_type": "code",
   "execution_count": 69,
   "id": "613cb9c4",
   "metadata": {},
   "outputs": [
    {
     "name": "stdout",
     "output_type": "stream",
     "text": [
      "[37.51140788 37.82759133 35.263945   37.55862512 35.27213392 35.2033149\n",
      " 37.80855316]\n"
     ]
    }
   ],
   "source": [
    "# bir hastanedeki hastaların vücut sıcaklık verisi bulunmaktadır. bu verilere göre 35.5 C nin altı veya\n",
    "# 37.5 C nin üzerindeki hastalar Anormal vücut ısılarına sahip hastalar olarak nitelendirilmektedir.\n",
    "# Anormal vücut sıcaklığı kategorisinde olan hastaların Vücut sıcaklıklarını listeleyiniz.\n",
    "\n",
    "np.random.seed(9)\n",
    "hastalar = np.random.normal(loc=36.6, scale=0.5, size=100)\n",
    "anormal_sicakliklar = hastalar[(hastalar <35.5) | (hastalar>37.5)]\n",
    "\n",
    "print(anormal_sicakliklar)"
   ]
  },
  {
   "cell_type": "markdown",
   "id": "946f4d0b",
   "metadata": {},
   "source": [
    "## Scipy\n",
    "\n",
    "#### SciPy (Scientific Python) Numpy üzerine inşa edilen bilimsel ve teknik hesaplamalar için kullanılır.\n",
    "\n",
    "## Moduller\n",
    "\n",
    "#### scipy.linalg -> Lineer cebir ve matris işlemleri için kullanılır.\n",
    "#### scipy.optimize -> minimum ve maksimum bulma\n",
    "#### scipy.fft -> Fourier dönüşümleri için kullanılır.\n",
    "#### scipy.integrate -> integral hesaolamak için kullanılır.\n"
   ]
  },
  {
   "cell_type": "code",
   "execution_count": 70,
   "id": "9587c904",
   "metadata": {},
   "outputs": [],
   "source": [
    "#  (5) 2x + 3y = 8\n",
    "#   (2)  5x + 7y = 19 \n",
    "\n",
    "# Çözümü\n",
    "# -10x - 15y =  -40\n",
    "#  10x  + 14y = 38\n",
    "\n",
    "# -y = -2\n",
    "# y = 2    x =1"
   ]
  },
  {
   "cell_type": "code",
   "execution_count": 72,
   "id": "658b6040",
   "metadata": {},
   "outputs": [
    {
     "name": "stdout",
     "output_type": "stream",
     "text": [
      "x = 1.0, y = 2.0\n"
     ]
    },
    {
     "data": {
      "text/plain": [
       "array([[2, 3],\n",
       "       [5, 7]])"
      ]
     },
     "execution_count": 72,
     "metadata": {},
     "output_type": "execute_result"
    }
   ],
   "source": [
    "from scipy.linalg import solve \n",
    "A = np.array([[2,3],[5,7]])\n",
    "B = np.array([8,19])\n",
    "\n",
    "# Çözümü bul\n",
    "x,y = solve(A,B)\n",
    "\n",
    "print(f'x = {x}, y = {y}')\n",
    "A"
   ]
  },
  {
   "cell_type": "code",
   "execution_count": 73,
   "id": "a7670223",
   "metadata": {},
   "outputs": [
    {
     "data": {
      "text/plain": [
       "array([ 8, 19])"
      ]
     },
     "execution_count": 73,
     "metadata": {},
     "output_type": "execute_result"
    }
   ],
   "source": [
    "B"
   ]
  },
  {
   "attachments": {
    "image.png": {
     "image/png": "[encoded data removed]"
    }
   },
   "cell_type": "markdown",
   "id": "dc545d4d",
   "metadata": {},
   "source": [
    "![image.png](attachment:image.png)"
   ]
  },
  {
   "cell_type": "code",
   "execution_count": 75,
   "id": "95b6b42c",
   "metadata": {},
   "outputs": [
    {
     "name": "stdout",
     "output_type": "stream",
     "text": [
      "integralin sonucu : 8.67\n"
     ]
    }
   ],
   "source": [
    "from scipy.integrate import quad\n",
    "\n",
    "def f(x):\n",
    "    return x**2 + 3*x\n",
    "\n",
    "integral, _ = quad(f,0,2)\n",
    "print(f'integralin sonucu : {integral:.2f}')"
   ]
  },
  {
   "cell_type": "markdown",
   "id": "528caece",
   "metadata": {},
   "source": [
    "# Pandas Nedir ?\n",
    "\n",
    "#### Python için geliştirilen güçlü, esnek bir veri analizi kütüphaesidir.\n",
    "#### Panel Data nın  türetilmiş halidir.\n",
    "\n",
    "#### Veri Manipülasyonu  , Veri Analizi , CSV,EXCEL, JSON ,SQL gibi formatlarla rahat bir şekilde çalışırız"
   ]
  },
  {
   "cell_type": "code",
   "execution_count": 77,
   "id": "67142e2c",
   "metadata": {},
   "outputs": [],
   "source": [
    "import pandas as pd\n",
    "import numpy as np"
   ]
  },
  {
   "cell_type": "code",
   "execution_count": 78,
   "id": "85bbfc80",
   "metadata": {},
   "outputs": [
    {
     "data": {
      "text/plain": [
       "0    1\n",
       "1    2\n",
       "2    3\n",
       "3    4\n",
       "4    5\n",
       "5    6\n",
       "6    7\n",
       "dtype: int32"
      ]
     },
     "execution_count": 78,
     "metadata": {},
     "output_type": "execute_result"
    }
   ],
   "source": [
    "v = np.arange(1,8)\n",
    "s1 = pd.Series(v)\n",
    "s1"
   ]
  },
  {
   "cell_type": "code",
   "execution_count": 79,
   "id": "309248e6",
   "metadata": {},
   "outputs": [
    {
     "data": {
      "text/plain": [
       "a    1\n",
       "b    2\n",
       "c    3\n",
       "dtype: int64"
      ]
     },
     "execution_count": 79,
     "metadata": {},
     "output_type": "execute_result"
    }
   ],
   "source": [
    "s0 = pd.Series([1,2,3],index=['a','b','c'])\n",
    "s0"
   ]
  },
  {
   "cell_type": "code",
   "execution_count": 80,
   "id": "8fb14e28",
   "metadata": {},
   "outputs": [
    {
     "data": {
      "text/plain": [
       "A    1\n",
       "B    2\n",
       "C    3\n",
       "D    4\n",
       "E    5\n",
       "F    6\n",
       "G    7\n",
       "dtype: int32"
      ]
     },
     "execution_count": 80,
     "metadata": {},
     "output_type": "execute_result"
    }
   ],
   "source": [
    "s1.index = ['A','B','C','D','E','F','G']\n",
    "s1"
   ]
  },
  {
   "cell_type": "code",
   "execution_count": 81,
   "id": "5de25192",
   "metadata": {},
   "outputs": [
    {
     "data": {
      "text/plain": [
       "a1    25\n",
       "b1    36\n",
       "c1    48\n",
       "dtype: int64"
      ]
     },
     "execution_count": 81,
     "metadata": {},
     "output_type": "execute_result"
    }
   ],
   "source": [
    "dict1 = {'a1':25, 'b1':36,'c1':48}\n",
    "s3 = pd.Series(dict1)\n",
    "s3"
   ]
  },
  {
   "cell_type": "code",
   "execution_count": 82,
   "id": "f82c2c2c",
   "metadata": {},
   "outputs": [
    {
     "data": {
      "text/plain": [
       "0    99\n",
       "1    99\n",
       "2    99\n",
       "3    99\n",
       "4    99\n",
       "5    99\n",
       "dtype: int64"
      ]
     },
     "execution_count": 82,
     "metadata": {},
     "output_type": "execute_result"
    }
   ],
   "source": [
    "ser1 = pd.Series(99, index=[i for i in range(6)])\n",
    "ser1"
   ]
  },
  {
   "cell_type": "code",
   "execution_count": 83,
   "id": "a9e2d0bf",
   "metadata": {},
   "outputs": [
    {
     "data": {
      "text/plain": [
       "0    0.036451\n",
       "1    0.767254\n",
       "2    0.678928\n",
       "3    0.918929\n",
       "4    0.560186\n",
       "5    0.967719\n",
       "6    0.308384\n",
       "7    0.338890\n",
       "8    0.730882\n",
       "9    0.701370\n",
       "dtype: float64"
      ]
     },
     "execution_count": 83,
     "metadata": {},
     "output_type": "execute_result"
    }
   ],
   "source": [
    "v2 = np.random.random(10)\n",
    "indisler = np.arange(0,10)\n",
    "\n",
    "s = pd.Series(v2, index = indisler)\n",
    "s"
   ]
  },
  {
   "cell_type": "code",
   "execution_count": 84,
   "id": "a2fb012b",
   "metadata": {},
   "outputs": [
    {
     "data": {
      "text/plain": [
       "0    0.036451\n",
       "1    0.767254\n",
       "2    0.678928\n",
       "dtype: float64"
      ]
     },
     "execution_count": 84,
     "metadata": {},
     "output_type": "execute_result"
    }
   ],
   "source": [
    "s[0:3]"
   ]
  },
  {
   "cell_type": "code",
   "execution_count": 85,
   "id": "ef26beb5",
   "metadata": {},
   "outputs": [
    {
     "data": {
      "text/plain": [
       "9    0.70137\n",
       "dtype: float64"
      ]
     },
     "execution_count": 85,
     "metadata": {},
     "output_type": "execute_result"
    }
   ],
   "source": [
    "# sondaki veriyi getir.\n",
    "s[-1:]"
   ]
  },
  {
   "cell_type": "code",
   "execution_count": 86,
   "id": "c7452985",
   "metadata": {},
   "outputs": [],
   "source": [
    "v1 = np.array([10,20,30])\n",
    "v2 = np.array([1,4,7])\n",
    "\n",
    "s1 = pd.Series(v1)\n",
    "s2 = pd.Series(v2)\n"
   ]
  },
  {
   "cell_type": "code",
   "execution_count": 87,
   "id": "fce949f0",
   "metadata": {},
   "outputs": [
    {
     "data": {
      "text/plain": [
       "0    10\n",
       "1    20\n",
       "2    30\n",
       "dtype: int32"
      ]
     },
     "execution_count": 87,
     "metadata": {},
     "output_type": "execute_result"
    }
   ],
   "source": [
    "s1"
   ]
  },
  {
   "cell_type": "code",
   "execution_count": 88,
   "id": "1d62506d",
   "metadata": {},
   "outputs": [
    {
     "data": {
      "text/plain": [
       "0    1\n",
       "1    4\n",
       "2    7\n",
       "dtype: int32"
      ]
     },
     "execution_count": 88,
     "metadata": {},
     "output_type": "execute_result"
    }
   ],
   "source": [
    "s2"
   ]
  },
  {
   "cell_type": "code",
   "execution_count": 89,
   "id": "4e1534ab",
   "metadata": {},
   "outputs": [
    {
     "data": {
      "text/plain": [
       "0    11\n",
       "1    24\n",
       "2    37\n",
       "dtype: int32"
      ]
     },
     "execution_count": 89,
     "metadata": {},
     "output_type": "execute_result"
    }
   ],
   "source": [
    "# Toplama\n",
    "s1.add(s2)"
   ]
  },
  {
   "cell_type": "code",
   "execution_count": 90,
   "id": "08e6d3d7",
   "metadata": {},
   "outputs": [
    {
     "data": {
      "text/plain": [
       "0     9\n",
       "1    16\n",
       "2    23\n",
       "dtype: int32"
      ]
     },
     "execution_count": 90,
     "metadata": {},
     "output_type": "execute_result"
    }
   ],
   "source": [
    "# Çıkarma\n",
    "s1.sub(s2)"
   ]
  },
  {
   "cell_type": "code",
   "execution_count": 91,
   "id": "56bc2696",
   "metadata": {},
   "outputs": [
    {
     "data": {
      "text/plain": [
       "0    25\n",
       "1    35\n",
       "2    45\n",
       "dtype: int32"
      ]
     },
     "execution_count": 91,
     "metadata": {},
     "output_type": "execute_result"
    }
   ],
   "source": [
    "s1.add(15)"
   ]
  },
  {
   "cell_type": "code",
   "execution_count": 92,
   "id": "8906abe4",
   "metadata": {},
   "outputs": [
    {
     "data": {
      "text/plain": [
       "0     10\n",
       "1     80\n",
       "2    210\n",
       "dtype: int32"
      ]
     },
     "execution_count": 92,
     "metadata": {},
     "output_type": "execute_result"
    }
   ],
   "source": [
    "# çarpma\n",
    "s1.mul(s2)"
   ]
  },
  {
   "cell_type": "code",
   "execution_count": 93,
   "id": "70feb945",
   "metadata": {},
   "outputs": [
    {
     "data": {
      "text/plain": [
       "0    10.000000\n",
       "1     5.000000\n",
       "2     4.285714\n",
       "dtype: float64"
      ]
     },
     "execution_count": 93,
     "metadata": {},
     "output_type": "execute_result"
    }
   ],
   "source": [
    "s1.divide(s2)"
   ]
  },
  {
   "cell_type": "code",
   "execution_count": 94,
   "id": "85150391",
   "metadata": {},
   "outputs": [
    {
     "name": "stdout",
     "output_type": "stream",
     "text": [
      "s1 serisinin max elemanı : 30\n",
      "s1 serisinin min elemanı : 10\n",
      "s1 serisinin medyanı  : 20.0\n"
     ]
    }
   ],
   "source": [
    "print(f's1 serisinin max elemanı : {s1.max()}')\n",
    "print(f's1 serisinin min elemanı : {s1.min()}')\n",
    "print(f's1 serisinin medyanı  : {s1.median()}')"
   ]
  },
  {
   "cell_type": "code",
   "execution_count": 95,
   "id": "80d306b8",
   "metadata": {},
   "outputs": [],
   "source": [
    "# Her bir elemanı kaç kere tekrar ediyor "
   ]
  },
  {
   "cell_type": "code",
   "execution_count": 96,
   "id": "c9e50d43",
   "metadata": {},
   "outputs": [
    {
     "data": {
      "text/plain": [
       "0      1\n",
       "1      1\n",
       "2      2\n",
       "3      2\n",
       "4      3\n",
       "5      3\n",
       "6      3\n",
       "7      4\n",
       "8      4\n",
       "9      4\n",
       "10     5\n",
       "11     5\n",
       "12     7\n",
       "13     7\n",
       "14     8\n",
       "15     9\n",
       "16    10\n",
       "dtype: int64"
      ]
     },
     "execution_count": 96,
     "metadata": {},
     "output_type": "execute_result"
    }
   ],
   "source": [
    "s5 = pd.Series([1,1,2,2,3,3,3,4,4,4,5,5,7,7,8,9,10], index = np.arange(17))\n",
    "s5"
   ]
  },
  {
   "cell_type": "code",
   "execution_count": 97,
   "id": "52959353",
   "metadata": {},
   "outputs": [
    {
     "data": {
      "text/plain": [
       "3     3\n",
       "4     3\n",
       "1     2\n",
       "2     2\n",
       "5     2\n",
       "7     2\n",
       "8     1\n",
       "9     1\n",
       "10    1\n",
       "dtype: int64"
      ]
     },
     "execution_count": 97,
     "metadata": {},
     "output_type": "execute_result"
    }
   ],
   "source": [
    "s5.value_counts()"
   ]
  },
  {
   "cell_type": "code",
   "execution_count": 98,
   "id": "0b5acbb8",
   "metadata": {},
   "outputs": [
    {
     "data": {
      "text/html": [
       "<div>\n",
       "<style scoped>\n",
       "    .dataframe tbody tr th:only-of-type {\n",
       "        vertical-align: middle;\n",
       "    }\n",
       "\n",
       "    .dataframe tbody tr th {\n",
       "        vertical-align: top;\n",
       "    }\n",
       "\n",
       "    .dataframe thead th {\n",
       "        text-align: right;\n",
       "    }\n",
       "</style>\n",
       "<table border=\"1\" class=\"dataframe\">\n",
       "  <thead>\n",
       "    <tr style=\"text-align: right;\">\n",
       "      <th></th>\n",
       "      <th>0</th>\n",
       "    </tr>\n",
       "  </thead>\n",
       "  <tbody>\n",
       "    <tr>\n",
       "      <th>0</th>\n",
       "      <td>C#</td>\n",
       "    </tr>\n",
       "    <tr>\n",
       "      <th>1</th>\n",
       "      <td>Python</td>\n",
       "    </tr>\n",
       "    <tr>\n",
       "      <th>2</th>\n",
       "      <td>Java</td>\n",
       "    </tr>\n",
       "    <tr>\n",
       "      <th>3</th>\n",
       "      <td>JavaScript</td>\n",
       "    </tr>\n",
       "  </tbody>\n",
       "</table>\n",
       "</div>"
      ],
      "text/plain": [
       "            0\n",
       "0          C#\n",
       "1      Python\n",
       "2        Java\n",
       "3  JavaScript"
      ]
     },
     "execution_count": 98,
     "metadata": {},
     "output_type": "execute_result"
    }
   ],
   "source": [
    "programalama_dilleri = ['C#','Python','Java','JavaScript']\n",
    "df = pd.DataFrame(programalama_dilleri)\n",
    "df"
   ]
  },
  {
   "cell_type": "code",
   "execution_count": 99,
   "id": "d9f4708a",
   "metadata": {},
   "outputs": [
    {
     "data": {
      "text/html": [
       "<div>\n",
       "<style scoped>\n",
       "    .dataframe tbody tr th:only-of-type {\n",
       "        vertical-align: middle;\n",
       "    }\n",
       "\n",
       "    .dataframe tbody tr th {\n",
       "        vertical-align: top;\n",
       "    }\n",
       "\n",
       "    .dataframe thead th {\n",
       "        text-align: right;\n",
       "    }\n",
       "</style>\n",
       "<table border=\"1\" class=\"dataframe\">\n",
       "  <thead>\n",
       "    <tr style=\"text-align: right;\">\n",
       "      <th></th>\n",
       "      <th>0</th>\n",
       "      <th>1</th>\n",
       "    </tr>\n",
       "  </thead>\n",
       "  <tbody>\n",
       "    <tr>\n",
       "      <th>0</th>\n",
       "      <td>C#</td>\n",
       "      <td>5</td>\n",
       "    </tr>\n",
       "    <tr>\n",
       "      <th>1</th>\n",
       "      <td>Python</td>\n",
       "      <td>4</td>\n",
       "    </tr>\n",
       "    <tr>\n",
       "      <th>2</th>\n",
       "      <td>Java</td>\n",
       "      <td>3</td>\n",
       "    </tr>\n",
       "    <tr>\n",
       "      <th>3</th>\n",
       "      <td>JavaScript</td>\n",
       "      <td>1</td>\n",
       "    </tr>\n",
       "  </tbody>\n",
       "</table>\n",
       "</div>"
      ],
      "text/plain": [
       "            0  1\n",
       "0          C#  5\n",
       "1      Python  4\n",
       "2        Java  3\n",
       "3  JavaScript  1"
      ]
     },
     "execution_count": 99,
     "metadata": {},
     "output_type": "execute_result"
    }
   ],
   "source": [
    "puan = [5,4,3,1]\n",
    "df[1] = puan\n",
    "df"
   ]
  },
  {
   "cell_type": "code",
   "execution_count": 100,
   "id": "19986c19",
   "metadata": {},
   "outputs": [
    {
     "data": {
      "text/html": [
       "<div>\n",
       "<style scoped>\n",
       "    .dataframe tbody tr th:only-of-type {\n",
       "        vertical-align: middle;\n",
       "    }\n",
       "\n",
       "    .dataframe tbody tr th {\n",
       "        vertical-align: top;\n",
       "    }\n",
       "\n",
       "    .dataframe thead th {\n",
       "        text-align: right;\n",
       "    }\n",
       "</style>\n",
       "<table border=\"1\" class=\"dataframe\">\n",
       "  <thead>\n",
       "    <tr style=\"text-align: right;\">\n",
       "      <th></th>\n",
       "      <th>Dil</th>\n",
       "      <th>Puan</th>\n",
       "    </tr>\n",
       "  </thead>\n",
       "  <tbody>\n",
       "    <tr>\n",
       "      <th>0</th>\n",
       "      <td>C#</td>\n",
       "      <td>5</td>\n",
       "    </tr>\n",
       "    <tr>\n",
       "      <th>1</th>\n",
       "      <td>Python</td>\n",
       "      <td>4</td>\n",
       "    </tr>\n",
       "    <tr>\n",
       "      <th>2</th>\n",
       "      <td>Java</td>\n",
       "      <td>3</td>\n",
       "    </tr>\n",
       "    <tr>\n",
       "      <th>3</th>\n",
       "      <td>JavaScript</td>\n",
       "      <td>1</td>\n",
       "    </tr>\n",
       "  </tbody>\n",
       "</table>\n",
       "</div>"
      ],
      "text/plain": [
       "          Dil  Puan\n",
       "0          C#     5\n",
       "1      Python     4\n",
       "2        Java     3\n",
       "3  JavaScript     1"
      ]
     },
     "execution_count": 100,
     "metadata": {},
     "output_type": "execute_result"
    }
   ],
   "source": [
    "df.columns = ['Dil','Puan']\n",
    "df"
   ]
  },
  {
   "cell_type": "code",
   "execution_count": 102,
   "id": "801c9668",
   "metadata": {},
   "outputs": [
    {
     "data": {
      "text/html": [
       "<div>\n",
       "<style scoped>\n",
       "    .dataframe tbody tr th:only-of-type {\n",
       "        vertical-align: middle;\n",
       "    }\n",
       "\n",
       "    .dataframe tbody tr th {\n",
       "        vertical-align: top;\n",
       "    }\n",
       "\n",
       "    .dataframe thead th {\n",
       "        text-align: right;\n",
       "    }\n",
       "</style>\n",
       "<table border=\"1\" class=\"dataframe\">\n",
       "  <thead>\n",
       "    <tr style=\"text-align: right;\">\n",
       "      <th></th>\n",
       "      <th>a</th>\n",
       "      <th>b</th>\n",
       "      <th>c</th>\n",
       "    </tr>\n",
       "  </thead>\n",
       "  <tbody>\n",
       "    <tr>\n",
       "      <th>0</th>\n",
       "      <td>1</td>\n",
       "      <td>3</td>\n",
       "      <td>NaN</td>\n",
       "    </tr>\n",
       "    <tr>\n",
       "      <th>1</th>\n",
       "      <td>5</td>\n",
       "      <td>10</td>\n",
       "      <td>20.0</td>\n",
       "    </tr>\n",
       "  </tbody>\n",
       "</table>\n",
       "</div>"
      ],
      "text/plain": [
       "   a   b     c\n",
       "0  1   3   NaN\n",
       "1  5  10  20.0"
      ]
     },
     "execution_count": 102,
     "metadata": {},
     "output_type": "execute_result"
    }
   ],
   "source": [
    "data = [{'a':1, 'b':3}, {'a':5, 'b':10, 'c':20}]\n",
    "df2 = pd.DataFrame(data)\n",
    "df2"
   ]
  },
  {
   "cell_type": "code",
   "execution_count": 103,
   "id": "786ee376",
   "metadata": {},
   "outputs": [
    {
     "data": {
      "text/html": [
       "<div>\n",
       "<style scoped>\n",
       "    .dataframe tbody tr th:only-of-type {\n",
       "        vertical-align: middle;\n",
       "    }\n",
       "\n",
       "    .dataframe tbody tr th {\n",
       "        vertical-align: top;\n",
       "    }\n",
       "\n",
       "    .dataframe thead th {\n",
       "        text-align: right;\n",
       "    }\n",
       "</style>\n",
       "<table border=\"1\" class=\"dataframe\">\n",
       "  <thead>\n",
       "    <tr style=\"text-align: right;\">\n",
       "      <th></th>\n",
       "      <th>a</th>\n",
       "      <th>b</th>\n",
       "    </tr>\n",
       "  </thead>\n",
       "  <tbody>\n",
       "    <tr>\n",
       "      <th>satir1</th>\n",
       "      <td>1</td>\n",
       "      <td>3</td>\n",
       "    </tr>\n",
       "    <tr>\n",
       "      <th>satir2</th>\n",
       "      <td>5</td>\n",
       "      <td>10</td>\n",
       "    </tr>\n",
       "  </tbody>\n",
       "</table>\n",
       "</div>"
      ],
      "text/plain": [
       "        a   b\n",
       "satir1  1   3\n",
       "satir2  5  10"
      ]
     },
     "execution_count": 103,
     "metadata": {},
     "output_type": "execute_result"
    }
   ],
   "source": [
    "df3 = pd.DataFrame(data, index=['satir1','satir2'], columns=['a','b'])\n",
    "df3"
   ]
  },
  {
   "cell_type": "code",
   "execution_count": 106,
   "id": "9cb8a5d1",
   "metadata": {},
   "outputs": [
    {
     "data": {
      "text/html": [
       "<div>\n",
       "<style scoped>\n",
       "    .dataframe tbody tr th:only-of-type {\n",
       "        vertical-align: middle;\n",
       "    }\n",
       "\n",
       "    .dataframe tbody tr th {\n",
       "        vertical-align: top;\n",
       "    }\n",
       "\n",
       "    .dataframe thead th {\n",
       "        text-align: right;\n",
       "    }\n",
       "</style>\n",
       "<table border=\"1\" class=\"dataframe\">\n",
       "  <thead>\n",
       "    <tr style=\"text-align: right;\">\n",
       "      <th></th>\n",
       "      <th>a</th>\n",
       "      <th>b</th>\n",
       "      <th>c</th>\n",
       "    </tr>\n",
       "  </thead>\n",
       "  <tbody>\n",
       "    <tr>\n",
       "      <th>satir1</th>\n",
       "      <td>1</td>\n",
       "      <td>3</td>\n",
       "      <td>NaN</td>\n",
       "    </tr>\n",
       "    <tr>\n",
       "      <th>satir2</th>\n",
       "      <td>5</td>\n",
       "      <td>10</td>\n",
       "      <td>20.0</td>\n",
       "    </tr>\n",
       "  </tbody>\n",
       "</table>\n",
       "</div>"
      ],
      "text/plain": [
       "        a   b     c\n",
       "satir1  1   3   NaN\n",
       "satir2  5  10  20.0"
      ]
     },
     "execution_count": 106,
     "metadata": {},
     "output_type": "execute_result"
    }
   ],
   "source": [
    "df4 = pd.DataFrame(data, index=['satir1','satir2'], columns=['a','b','c'])\n",
    "df4"
   ]
  },
  {
   "cell_type": "code",
   "execution_count": 107,
   "id": "f6662576",
   "metadata": {},
   "outputs": [
    {
     "data": {
      "text/plain": [
       "DatetimeIndex(['2024-04-01', '2024-04-02', '2024-04-03', '2024-04-04',\n",
       "               '2024-04-05', '2024-04-06', '2024-04-07', '2024-04-08',\n",
       "               '2024-04-09', '2024-04-10', '2024-04-11', '2024-04-12',\n",
       "               '2024-04-13', '2024-04-14', '2024-04-15', '2024-04-16',\n",
       "               '2024-04-17', '2024-04-18', '2024-04-19', '2024-04-20',\n",
       "               '2024-04-21', '2024-04-22', '2024-04-23', '2024-04-24',\n",
       "               '2024-04-25', '2024-04-26', '2024-04-27', '2024-04-28',\n",
       "               '2024-04-29', '2024-04-30', '2024-05-01', '2024-05-02',\n",
       "               '2024-05-03', '2024-05-04', '2024-05-05', '2024-05-06',\n",
       "               '2024-05-07', '2024-05-08', '2024-05-09', '2024-05-10',\n",
       "               '2024-05-11', '2024-05-12', '2024-05-13'],\n",
       "              dtype='datetime64[ns]', freq='D')"
      ]
     },
     "execution_count": 107,
     "metadata": {},
     "output_type": "execute_result"
    }
   ],
   "source": [
    "# Tarihsel  veriler : \n",
    "##yyyy/mm/dd\n",
    "dates = pd.date_range(start='2024-04-01', end='2024-05-13')\n",
    "dates"
   ]
  },
  {
   "cell_type": "code",
   "execution_count": 112,
   "id": "7593fbf7",
   "metadata": {},
   "outputs": [
    {
     "data": {
      "text/plain": [
       "DatetimeIndex(['2025-02-16 14:32:17.878230', '2025-02-17 14:32:17.878230',\n",
       "               '2025-02-18 14:32:17.878230', '2025-02-19 14:32:17.878230',\n",
       "               '2025-02-20 14:32:17.878230', '2025-02-21 14:32:17.878230',\n",
       "               '2025-02-22 14:32:17.878230'],\n",
       "              dtype='datetime64[ns]', freq='D')"
      ]
     },
     "execution_count": 112,
     "metadata": {},
     "output_type": "execute_result"
    }
   ],
   "source": [
    "# bugünden itibaren 7 günün listesi \n",
    "dates1 = pd.date_range('today',periods=7)\n",
    "dates1"
   ]
  },
  {
   "cell_type": "code",
   "execution_count": 113,
   "id": "9573b3ba",
   "metadata": {},
   "outputs": [
    {
     "data": {
      "text/plain": [
       "DatetimeIndex(['2024-04-01', '2024-04-02', '2024-04-03', '2024-04-04',\n",
       "               '2024-04-05', '2024-04-06', '2024-04-07', '2024-04-08',\n",
       "               '2024-04-09', '2024-04-10', '2024-04-11', '2024-04-12',\n",
       "               '2024-04-13', '2024-04-14', '2024-04-15', '2024-04-16',\n",
       "               '2024-04-17', '2024-04-18', '2024-04-19', '2024-04-20',\n",
       "               '2024-04-21', '2024-04-22', '2024-04-23', '2024-04-24',\n",
       "               '2024-04-25', '2024-04-26', '2024-04-27', '2024-04-28',\n",
       "               '2024-04-29', '2024-04-30', '2024-05-01', '2024-05-02',\n",
       "               '2024-05-03', '2024-05-04', '2024-05-05'],\n",
       "              dtype='datetime64[ns]', freq='D')"
      ]
     },
     "execution_count": 113,
     "metadata": {},
     "output_type": "execute_result"
    }
   ],
   "source": [
    "dates2 = pd.date_range(start = '2024-04-01', periods=35)\n",
    "dates2"
   ]
  },
  {
   "cell_type": "code",
   "execution_count": 114,
   "id": "ba0c590d",
   "metadata": {},
   "outputs": [
    {
     "data": {
      "text/plain": [
       "array([[140,  95, 102,  92, 103,  60,  74],\n",
       "       [ 86, 147, 140,  69,  89,  17,  26],\n",
       "       [ 51,  26,  77,  13,  37,  16,  55],\n",
       "       [ 18,  83,  87, 128, 147,  94,  85],\n",
       "       [125, 101,  69,  36,  32,  15, 141],\n",
       "       [104,  39, 144,  56, 124, 128, 143],\n",
       "       [ 32, 127, 118, 110,  22,  59,  66]])"
      ]
     },
     "execution_count": 114,
     "metadata": {},
     "output_type": "execute_result"
    }
   ],
   "source": [
    "M = np.random.randint(10,150,49).reshape(7,7)\n",
    "M"
   ]
  },
  {
   "cell_type": "code",
   "execution_count": 115,
   "id": "eaf89c96",
   "metadata": {},
   "outputs": [
    {
     "data": {
      "text/html": [
       "<div>\n",
       "<style scoped>\n",
       "    .dataframe tbody tr th:only-of-type {\n",
       "        vertical-align: middle;\n",
       "    }\n",
       "\n",
       "    .dataframe tbody tr th {\n",
       "        vertical-align: top;\n",
       "    }\n",
       "\n",
       "    .dataframe thead th {\n",
       "        text-align: right;\n",
       "    }\n",
       "</style>\n",
       "<table border=\"1\" class=\"dataframe\">\n",
       "  <thead>\n",
       "    <tr style=\"text-align: right;\">\n",
       "      <th></th>\n",
       "      <th>0</th>\n",
       "      <th>1</th>\n",
       "      <th>2</th>\n",
       "      <th>3</th>\n",
       "      <th>4</th>\n",
       "      <th>5</th>\n",
       "      <th>6</th>\n",
       "    </tr>\n",
       "  </thead>\n",
       "  <tbody>\n",
       "    <tr>\n",
       "      <th>2025-02-16 14:32:17.878230</th>\n",
       "      <td>140</td>\n",
       "      <td>95</td>\n",
       "      <td>102</td>\n",
       "      <td>92</td>\n",
       "      <td>103</td>\n",
       "      <td>60</td>\n",
       "      <td>74</td>\n",
       "    </tr>\n",
       "    <tr>\n",
       "      <th>2025-02-17 14:32:17.878230</th>\n",
       "      <td>86</td>\n",
       "      <td>147</td>\n",
       "      <td>140</td>\n",
       "      <td>69</td>\n",
       "      <td>89</td>\n",
       "      <td>17</td>\n",
       "      <td>26</td>\n",
       "    </tr>\n",
       "    <tr>\n",
       "      <th>2025-02-18 14:32:17.878230</th>\n",
       "      <td>51</td>\n",
       "      <td>26</td>\n",
       "      <td>77</td>\n",
       "      <td>13</td>\n",
       "      <td>37</td>\n",
       "      <td>16</td>\n",
       "      <td>55</td>\n",
       "    </tr>\n",
       "    <tr>\n",
       "      <th>2025-02-19 14:32:17.878230</th>\n",
       "      <td>18</td>\n",
       "      <td>83</td>\n",
       "      <td>87</td>\n",
       "      <td>128</td>\n",
       "      <td>147</td>\n",
       "      <td>94</td>\n",
       "      <td>85</td>\n",
       "    </tr>\n",
       "    <tr>\n",
       "      <th>2025-02-20 14:32:17.878230</th>\n",
       "      <td>125</td>\n",
       "      <td>101</td>\n",
       "      <td>69</td>\n",
       "      <td>36</td>\n",
       "      <td>32</td>\n",
       "      <td>15</td>\n",
       "      <td>141</td>\n",
       "    </tr>\n",
       "    <tr>\n",
       "      <th>2025-02-21 14:32:17.878230</th>\n",
       "      <td>104</td>\n",
       "      <td>39</td>\n",
       "      <td>144</td>\n",
       "      <td>56</td>\n",
       "      <td>124</td>\n",
       "      <td>128</td>\n",
       "      <td>143</td>\n",
       "    </tr>\n",
       "    <tr>\n",
       "      <th>2025-02-22 14:32:17.878230</th>\n",
       "      <td>32</td>\n",
       "      <td>127</td>\n",
       "      <td>118</td>\n",
       "      <td>110</td>\n",
       "      <td>22</td>\n",
       "      <td>59</td>\n",
       "      <td>66</td>\n",
       "    </tr>\n",
       "  </tbody>\n",
       "</table>\n",
       "</div>"
      ],
      "text/plain": [
       "                              0    1    2    3    4    5    6\n",
       "2025-02-16 14:32:17.878230  140   95  102   92  103   60   74\n",
       "2025-02-17 14:32:17.878230   86  147  140   69   89   17   26\n",
       "2025-02-18 14:32:17.878230   51   26   77   13   37   16   55\n",
       "2025-02-19 14:32:17.878230   18   83   87  128  147   94   85\n",
       "2025-02-20 14:32:17.878230  125  101   69   36   32   15  141\n",
       "2025-02-21 14:32:17.878230  104   39  144   56  124  128  143\n",
       "2025-02-22 14:32:17.878230   32  127  118  110   22   59   66"
      ]
     },
     "execution_count": 115,
     "metadata": {},
     "output_type": "execute_result"
    }
   ],
   "source": [
    "df = pd.DataFrame(M, index=dates1)\n",
    "df"
   ]
  },
  {
   "cell_type": "code",
   "execution_count": 116,
   "id": "e547e5f6",
   "metadata": {},
   "outputs": [
    {
     "data": {
      "text/html": [
       "<div>\n",
       "<style scoped>\n",
       "    .dataframe tbody tr th:only-of-type {\n",
       "        vertical-align: middle;\n",
       "    }\n",
       "\n",
       "    .dataframe tbody tr th {\n",
       "        vertical-align: top;\n",
       "    }\n",
       "\n",
       "    .dataframe thead th {\n",
       "        text-align: right;\n",
       "    }\n",
       "</style>\n",
       "<table border=\"1\" class=\"dataframe\">\n",
       "  <thead>\n",
       "    <tr style=\"text-align: right;\">\n",
       "      <th></th>\n",
       "      <th>C1</th>\n",
       "      <th>C2</th>\n",
       "      <th>C3</th>\n",
       "      <th>C4</th>\n",
       "      <th>C5</th>\n",
       "      <th>C6</th>\n",
       "      <th>C7</th>\n",
       "    </tr>\n",
       "  </thead>\n",
       "  <tbody>\n",
       "    <tr>\n",
       "      <th>2025-02-16 14:32:17.878230</th>\n",
       "      <td>140</td>\n",
       "      <td>95</td>\n",
       "      <td>102</td>\n",
       "      <td>92</td>\n",
       "      <td>103</td>\n",
       "      <td>60</td>\n",
       "      <td>74</td>\n",
       "    </tr>\n",
       "    <tr>\n",
       "      <th>2025-02-17 14:32:17.878230</th>\n",
       "      <td>86</td>\n",
       "      <td>147</td>\n",
       "      <td>140</td>\n",
       "      <td>69</td>\n",
       "      <td>89</td>\n",
       "      <td>17</td>\n",
       "      <td>26</td>\n",
       "    </tr>\n",
       "    <tr>\n",
       "      <th>2025-02-18 14:32:17.878230</th>\n",
       "      <td>51</td>\n",
       "      <td>26</td>\n",
       "      <td>77</td>\n",
       "      <td>13</td>\n",
       "      <td>37</td>\n",
       "      <td>16</td>\n",
       "      <td>55</td>\n",
       "    </tr>\n",
       "    <tr>\n",
       "      <th>2025-02-19 14:32:17.878230</th>\n",
       "      <td>18</td>\n",
       "      <td>83</td>\n",
       "      <td>87</td>\n",
       "      <td>128</td>\n",
       "      <td>147</td>\n",
       "      <td>94</td>\n",
       "      <td>85</td>\n",
       "    </tr>\n",
       "    <tr>\n",
       "      <th>2025-02-20 14:32:17.878230</th>\n",
       "      <td>125</td>\n",
       "      <td>101</td>\n",
       "      <td>69</td>\n",
       "      <td>36</td>\n",
       "      <td>32</td>\n",
       "      <td>15</td>\n",
       "      <td>141</td>\n",
       "    </tr>\n",
       "    <tr>\n",
       "      <th>2025-02-21 14:32:17.878230</th>\n",
       "      <td>104</td>\n",
       "      <td>39</td>\n",
       "      <td>144</td>\n",
       "      <td>56</td>\n",
       "      <td>124</td>\n",
       "      <td>128</td>\n",
       "      <td>143</td>\n",
       "    </tr>\n",
       "    <tr>\n",
       "      <th>2025-02-22 14:32:17.878230</th>\n",
       "      <td>32</td>\n",
       "      <td>127</td>\n",
       "      <td>118</td>\n",
       "      <td>110</td>\n",
       "      <td>22</td>\n",
       "      <td>59</td>\n",
       "      <td>66</td>\n",
       "    </tr>\n",
       "  </tbody>\n",
       "</table>\n",
       "</div>"
      ],
      "text/plain": [
       "                             C1   C2   C3   C4   C5   C6   C7\n",
       "2025-02-16 14:32:17.878230  140   95  102   92  103   60   74\n",
       "2025-02-17 14:32:17.878230   86  147  140   69   89   17   26\n",
       "2025-02-18 14:32:17.878230   51   26   77   13   37   16   55\n",
       "2025-02-19 14:32:17.878230   18   83   87  128  147   94   85\n",
       "2025-02-20 14:32:17.878230  125  101   69   36   32   15  141\n",
       "2025-02-21 14:32:17.878230  104   39  144   56  124  128  143\n",
       "2025-02-22 14:32:17.878230   32  127  118  110   22   59   66"
      ]
     },
     "execution_count": 116,
     "metadata": {},
     "output_type": "execute_result"
    }
   ],
   "source": [
    "df.columns = ['C1','C2','C3','C4','C5','C6','C7']\n",
    "\n",
    "df"
   ]
  },
  {
   "cell_type": "code",
   "execution_count": 117,
   "id": "30f994bc",
   "metadata": {},
   "outputs": [
    {
     "data": {
      "text/html": [
       "<div>\n",
       "<style scoped>\n",
       "    .dataframe tbody tr th:only-of-type {\n",
       "        vertical-align: middle;\n",
       "    }\n",
       "\n",
       "    .dataframe tbody tr th {\n",
       "        vertical-align: top;\n",
       "    }\n",
       "\n",
       "    .dataframe thead th {\n",
       "        text-align: right;\n",
       "    }\n",
       "</style>\n",
       "<table border=\"1\" class=\"dataframe\">\n",
       "  <thead>\n",
       "    <tr style=\"text-align: right;\">\n",
       "      <th></th>\n",
       "      <th>C1</th>\n",
       "      <th>C2</th>\n",
       "      <th>C3</th>\n",
       "      <th>C4</th>\n",
       "      <th>C5</th>\n",
       "      <th>C6</th>\n",
       "      <th>C7</th>\n",
       "    </tr>\n",
       "  </thead>\n",
       "  <tbody>\n",
       "    <tr>\n",
       "      <th>2025-02-19 14:32:17.878230</th>\n",
       "      <td>18</td>\n",
       "      <td>83</td>\n",
       "      <td>87</td>\n",
       "      <td>128</td>\n",
       "      <td>147</td>\n",
       "      <td>94</td>\n",
       "      <td>85</td>\n",
       "    </tr>\n",
       "    <tr>\n",
       "      <th>2025-02-22 14:32:17.878230</th>\n",
       "      <td>32</td>\n",
       "      <td>127</td>\n",
       "      <td>118</td>\n",
       "      <td>110</td>\n",
       "      <td>22</td>\n",
       "      <td>59</td>\n",
       "      <td>66</td>\n",
       "    </tr>\n",
       "    <tr>\n",
       "      <th>2025-02-18 14:32:17.878230</th>\n",
       "      <td>51</td>\n",
       "      <td>26</td>\n",
       "      <td>77</td>\n",
       "      <td>13</td>\n",
       "      <td>37</td>\n",
       "      <td>16</td>\n",
       "      <td>55</td>\n",
       "    </tr>\n",
       "    <tr>\n",
       "      <th>2025-02-17 14:32:17.878230</th>\n",
       "      <td>86</td>\n",
       "      <td>147</td>\n",
       "      <td>140</td>\n",
       "      <td>69</td>\n",
       "      <td>89</td>\n",
       "      <td>17</td>\n",
       "      <td>26</td>\n",
       "    </tr>\n",
       "    <tr>\n",
       "      <th>2025-02-21 14:32:17.878230</th>\n",
       "      <td>104</td>\n",
       "      <td>39</td>\n",
       "      <td>144</td>\n",
       "      <td>56</td>\n",
       "      <td>124</td>\n",
       "      <td>128</td>\n",
       "      <td>143</td>\n",
       "    </tr>\n",
       "    <tr>\n",
       "      <th>2025-02-20 14:32:17.878230</th>\n",
       "      <td>125</td>\n",
       "      <td>101</td>\n",
       "      <td>69</td>\n",
       "      <td>36</td>\n",
       "      <td>32</td>\n",
       "      <td>15</td>\n",
       "      <td>141</td>\n",
       "    </tr>\n",
       "    <tr>\n",
       "      <th>2025-02-16 14:32:17.878230</th>\n",
       "      <td>140</td>\n",
       "      <td>95</td>\n",
       "      <td>102</td>\n",
       "      <td>92</td>\n",
       "      <td>103</td>\n",
       "      <td>60</td>\n",
       "      <td>74</td>\n",
       "    </tr>\n",
       "  </tbody>\n",
       "</table>\n",
       "</div>"
      ],
      "text/plain": [
       "                             C1   C2   C3   C4   C5   C6   C7\n",
       "2025-02-19 14:32:17.878230   18   83   87  128  147   94   85\n",
       "2025-02-22 14:32:17.878230   32  127  118  110   22   59   66\n",
       "2025-02-18 14:32:17.878230   51   26   77   13   37   16   55\n",
       "2025-02-17 14:32:17.878230   86  147  140   69   89   17   26\n",
       "2025-02-21 14:32:17.878230  104   39  144   56  124  128  143\n",
       "2025-02-20 14:32:17.878230  125  101   69   36   32   15  141\n",
       "2025-02-16 14:32:17.878230  140   95  102   92  103   60   74"
      ]
     },
     "execution_count": 117,
     "metadata": {},
     "output_type": "execute_result"
    }
   ],
   "source": [
    "# C1 kolonuna göre artan şekilde sırala\n",
    "df.sort_values(by='C1')"
   ]
  },
  {
   "cell_type": "code",
   "execution_count": 119,
   "id": "db53a870",
   "metadata": {},
   "outputs": [
    {
     "data": {
      "text/html": [
       "<div>\n",
       "<style scoped>\n",
       "    .dataframe tbody tr th:only-of-type {\n",
       "        vertical-align: middle;\n",
       "    }\n",
       "\n",
       "    .dataframe tbody tr th {\n",
       "        vertical-align: top;\n",
       "    }\n",
       "\n",
       "    .dataframe thead th {\n",
       "        text-align: right;\n",
       "    }\n",
       "</style>\n",
       "<table border=\"1\" class=\"dataframe\">\n",
       "  <thead>\n",
       "    <tr style=\"text-align: right;\">\n",
       "      <th></th>\n",
       "      <th>C1</th>\n",
       "      <th>C2</th>\n",
       "      <th>C3</th>\n",
       "      <th>C4</th>\n",
       "      <th>C5</th>\n",
       "      <th>C6</th>\n",
       "      <th>C7</th>\n",
       "    </tr>\n",
       "  </thead>\n",
       "  <tbody>\n",
       "    <tr>\n",
       "      <th>2025-02-21 14:32:17.878230</th>\n",
       "      <td>104</td>\n",
       "      <td>39</td>\n",
       "      <td>144</td>\n",
       "      <td>56</td>\n",
       "      <td>124</td>\n",
       "      <td>128</td>\n",
       "      <td>143</td>\n",
       "    </tr>\n",
       "    <tr>\n",
       "      <th>2025-02-20 14:32:17.878230</th>\n",
       "      <td>125</td>\n",
       "      <td>101</td>\n",
       "      <td>69</td>\n",
       "      <td>36</td>\n",
       "      <td>32</td>\n",
       "      <td>15</td>\n",
       "      <td>141</td>\n",
       "    </tr>\n",
       "    <tr>\n",
       "      <th>2025-02-19 14:32:17.878230</th>\n",
       "      <td>18</td>\n",
       "      <td>83</td>\n",
       "      <td>87</td>\n",
       "      <td>128</td>\n",
       "      <td>147</td>\n",
       "      <td>94</td>\n",
       "      <td>85</td>\n",
       "    </tr>\n",
       "    <tr>\n",
       "      <th>2025-02-16 14:32:17.878230</th>\n",
       "      <td>140</td>\n",
       "      <td>95</td>\n",
       "      <td>102</td>\n",
       "      <td>92</td>\n",
       "      <td>103</td>\n",
       "      <td>60</td>\n",
       "      <td>74</td>\n",
       "    </tr>\n",
       "    <tr>\n",
       "      <th>2025-02-22 14:32:17.878230</th>\n",
       "      <td>32</td>\n",
       "      <td>127</td>\n",
       "      <td>118</td>\n",
       "      <td>110</td>\n",
       "      <td>22</td>\n",
       "      <td>59</td>\n",
       "      <td>66</td>\n",
       "    </tr>\n",
       "    <tr>\n",
       "      <th>2025-02-18 14:32:17.878230</th>\n",
       "      <td>51</td>\n",
       "      <td>26</td>\n",
       "      <td>77</td>\n",
       "      <td>13</td>\n",
       "      <td>37</td>\n",
       "      <td>16</td>\n",
       "      <td>55</td>\n",
       "    </tr>\n",
       "    <tr>\n",
       "      <th>2025-02-17 14:32:17.878230</th>\n",
       "      <td>86</td>\n",
       "      <td>147</td>\n",
       "      <td>140</td>\n",
       "      <td>69</td>\n",
       "      <td>89</td>\n",
       "      <td>17</td>\n",
       "      <td>26</td>\n",
       "    </tr>\n",
       "  </tbody>\n",
       "</table>\n",
       "</div>"
      ],
      "text/plain": [
       "                             C1   C2   C3   C4   C5   C6   C7\n",
       "2025-02-21 14:32:17.878230  104   39  144   56  124  128  143\n",
       "2025-02-20 14:32:17.878230  125  101   69   36   32   15  141\n",
       "2025-02-19 14:32:17.878230   18   83   87  128  147   94   85\n",
       "2025-02-16 14:32:17.878230  140   95  102   92  103   60   74\n",
       "2025-02-22 14:32:17.878230   32  127  118  110   22   59   66\n",
       "2025-02-18 14:32:17.878230   51   26   77   13   37   16   55\n",
       "2025-02-17 14:32:17.878230   86  147  140   69   89   17   26"
      ]
     },
     "execution_count": 119,
     "metadata": {},
     "output_type": "execute_result"
    }
   ],
   "source": [
    "# C7 kolonuna göre azalan şekilde sırala\n",
    "df.sort_values(by='C7', ascending=False)"
   ]
  },
  {
   "cell_type": "code",
   "execution_count": 120,
   "id": "7cf54a7e",
   "metadata": {},
   "outputs": [
    {
     "data": {
      "text/html": [
       "<div>\n",
       "<style scoped>\n",
       "    .dataframe tbody tr th:only-of-type {\n",
       "        vertical-align: middle;\n",
       "    }\n",
       "\n",
       "    .dataframe tbody tr th {\n",
       "        vertical-align: top;\n",
       "    }\n",
       "\n",
       "    .dataframe thead th {\n",
       "        text-align: right;\n",
       "    }\n",
       "</style>\n",
       "<table border=\"1\" class=\"dataframe\">\n",
       "  <thead>\n",
       "    <tr style=\"text-align: right;\">\n",
       "      <th></th>\n",
       "      <th>a</th>\n",
       "      <th>b</th>\n",
       "    </tr>\n",
       "  </thead>\n",
       "  <tbody>\n",
       "    <tr>\n",
       "      <th>satir1</th>\n",
       "      <td>1</td>\n",
       "      <td>3</td>\n",
       "    </tr>\n",
       "    <tr>\n",
       "      <th>satir2</th>\n",
       "      <td>5</td>\n",
       "      <td>10</td>\n",
       "    </tr>\n",
       "  </tbody>\n",
       "</table>\n",
       "</div>"
      ],
      "text/plain": [
       "        a   b\n",
       "satir1  1   3\n",
       "satir2  5  10"
      ]
     },
     "execution_count": 120,
     "metadata": {},
     "output_type": "execute_result"
    }
   ],
   "source": [
    "df3"
   ]
  },
  {
   "cell_type": "code",
   "execution_count": 121,
   "id": "8f2aec78",
   "metadata": {},
   "outputs": [
    {
     "data": {
      "text/html": [
       "<div>\n",
       "<style scoped>\n",
       "    .dataframe tbody tr th:only-of-type {\n",
       "        vertical-align: middle;\n",
       "    }\n",
       "\n",
       "    .dataframe tbody tr th {\n",
       "        vertical-align: top;\n",
       "    }\n",
       "\n",
       "    .dataframe thead th {\n",
       "        text-align: right;\n",
       "    }\n",
       "</style>\n",
       "<table border=\"1\" class=\"dataframe\">\n",
       "  <thead>\n",
       "    <tr style=\"text-align: right;\">\n",
       "      <th></th>\n",
       "      <th>a</th>\n",
       "    </tr>\n",
       "  </thead>\n",
       "  <tbody>\n",
       "    <tr>\n",
       "      <th>satir1</th>\n",
       "      <td>1</td>\n",
       "    </tr>\n",
       "    <tr>\n",
       "      <th>satir2</th>\n",
       "      <td>5</td>\n",
       "    </tr>\n",
       "  </tbody>\n",
       "</table>\n",
       "</div>"
      ],
      "text/plain": [
       "        a\n",
       "satir1  1\n",
       "satir2  5"
      ]
     },
     "execution_count": 121,
     "metadata": {},
     "output_type": "execute_result"
    }
   ],
   "source": [
    "del df3['b']\n",
    "df3"
   ]
  },
  {
   "cell_type": "code",
   "execution_count": 122,
   "id": "05ea46cc",
   "metadata": {},
   "outputs": [
    {
     "data": {
      "text/html": [
       "<div>\n",
       "<style scoped>\n",
       "    .dataframe tbody tr th:only-of-type {\n",
       "        vertical-align: middle;\n",
       "    }\n",
       "\n",
       "    .dataframe tbody tr th {\n",
       "        vertical-align: top;\n",
       "    }\n",
       "\n",
       "    .dataframe thead th {\n",
       "        text-align: right;\n",
       "    }\n",
       "</style>\n",
       "<table border=\"1\" class=\"dataframe\">\n",
       "  <thead>\n",
       "    <tr style=\"text-align: right;\">\n",
       "      <th></th>\n",
       "      <th>C1</th>\n",
       "      <th>C2</th>\n",
       "    </tr>\n",
       "  </thead>\n",
       "  <tbody>\n",
       "    <tr>\n",
       "      <th>0</th>\n",
       "      <td>10.000000</td>\n",
       "      <td>70</td>\n",
       "    </tr>\n",
       "    <tr>\n",
       "      <th>1</th>\n",
       "      <td>13.103448</td>\n",
       "      <td>55</td>\n",
       "    </tr>\n",
       "    <tr>\n",
       "      <th>2</th>\n",
       "      <td>16.206897</td>\n",
       "      <td>69</td>\n",
       "    </tr>\n",
       "    <tr>\n",
       "      <th>3</th>\n",
       "      <td>19.310345</td>\n",
       "      <td>3</td>\n",
       "    </tr>\n",
       "    <tr>\n",
       "      <th>4</th>\n",
       "      <td>22.413793</td>\n",
       "      <td>63</td>\n",
       "    </tr>\n",
       "    <tr>\n",
       "      <th>5</th>\n",
       "      <td>25.517241</td>\n",
       "      <td>54</td>\n",
       "    </tr>\n",
       "    <tr>\n",
       "      <th>6</th>\n",
       "      <td>28.620690</td>\n",
       "      <td>96</td>\n",
       "    </tr>\n",
       "    <tr>\n",
       "      <th>7</th>\n",
       "      <td>31.724138</td>\n",
       "      <td>92</td>\n",
       "    </tr>\n",
       "    <tr>\n",
       "      <th>8</th>\n",
       "      <td>34.827586</td>\n",
       "      <td>35</td>\n",
       "    </tr>\n",
       "    <tr>\n",
       "      <th>9</th>\n",
       "      <td>37.931034</td>\n",
       "      <td>50</td>\n",
       "    </tr>\n",
       "    <tr>\n",
       "      <th>10</th>\n",
       "      <td>41.034483</td>\n",
       "      <td>16</td>\n",
       "    </tr>\n",
       "    <tr>\n",
       "      <th>11</th>\n",
       "      <td>44.137931</td>\n",
       "      <td>12</td>\n",
       "    </tr>\n",
       "    <tr>\n",
       "      <th>12</th>\n",
       "      <td>47.241379</td>\n",
       "      <td>90</td>\n",
       "    </tr>\n",
       "    <tr>\n",
       "      <th>13</th>\n",
       "      <td>50.344828</td>\n",
       "      <td>70</td>\n",
       "    </tr>\n",
       "    <tr>\n",
       "      <th>14</th>\n",
       "      <td>53.448276</td>\n",
       "      <td>78</td>\n",
       "    </tr>\n",
       "    <tr>\n",
       "      <th>15</th>\n",
       "      <td>56.551724</td>\n",
       "      <td>23</td>\n",
       "    </tr>\n",
       "    <tr>\n",
       "      <th>16</th>\n",
       "      <td>59.655172</td>\n",
       "      <td>24</td>\n",
       "    </tr>\n",
       "    <tr>\n",
       "      <th>17</th>\n",
       "      <td>62.758621</td>\n",
       "      <td>25</td>\n",
       "    </tr>\n",
       "    <tr>\n",
       "      <th>18</th>\n",
       "      <td>65.862069</td>\n",
       "      <td>51</td>\n",
       "    </tr>\n",
       "    <tr>\n",
       "      <th>19</th>\n",
       "      <td>68.965517</td>\n",
       "      <td>2</td>\n",
       "    </tr>\n",
       "    <tr>\n",
       "      <th>20</th>\n",
       "      <td>72.068966</td>\n",
       "      <td>28</td>\n",
       "    </tr>\n",
       "    <tr>\n",
       "      <th>21</th>\n",
       "      <td>75.172414</td>\n",
       "      <td>49</td>\n",
       "    </tr>\n",
       "    <tr>\n",
       "      <th>22</th>\n",
       "      <td>78.275862</td>\n",
       "      <td>63</td>\n",
       "    </tr>\n",
       "    <tr>\n",
       "      <th>23</th>\n",
       "      <td>81.379310</td>\n",
       "      <td>17</td>\n",
       "    </tr>\n",
       "    <tr>\n",
       "      <th>24</th>\n",
       "      <td>84.482759</td>\n",
       "      <td>70</td>\n",
       "    </tr>\n",
       "    <tr>\n",
       "      <th>25</th>\n",
       "      <td>87.586207</td>\n",
       "      <td>40</td>\n",
       "    </tr>\n",
       "    <tr>\n",
       "      <th>26</th>\n",
       "      <td>90.689655</td>\n",
       "      <td>85</td>\n",
       "    </tr>\n",
       "    <tr>\n",
       "      <th>27</th>\n",
       "      <td>93.793103</td>\n",
       "      <td>83</td>\n",
       "    </tr>\n",
       "    <tr>\n",
       "      <th>28</th>\n",
       "      <td>96.896552</td>\n",
       "      <td>91</td>\n",
       "    </tr>\n",
       "    <tr>\n",
       "      <th>29</th>\n",
       "      <td>100.000000</td>\n",
       "      <td>35</td>\n",
       "    </tr>\n",
       "  </tbody>\n",
       "</table>\n",
       "</div>"
      ],
      "text/plain": [
       "            C1  C2\n",
       "0    10.000000  70\n",
       "1    13.103448  55\n",
       "2    16.206897  69\n",
       "3    19.310345   3\n",
       "4    22.413793  63\n",
       "5    25.517241  54\n",
       "6    28.620690  96\n",
       "7    31.724138  92\n",
       "8    34.827586  35\n",
       "9    37.931034  50\n",
       "10   41.034483  16\n",
       "11   44.137931  12\n",
       "12   47.241379  90\n",
       "13   50.344828  70\n",
       "14   53.448276  78\n",
       "15   56.551724  23\n",
       "16   59.655172  24\n",
       "17   62.758621  25\n",
       "18   65.862069  51\n",
       "19   68.965517   2\n",
       "20   72.068966  28\n",
       "21   75.172414  49\n",
       "22   78.275862  63\n",
       "23   81.379310  17\n",
       "24   84.482759  70\n",
       "25   87.586207  40\n",
       "26   90.689655  85\n",
       "27   93.793103  83\n",
       "28   96.896552  91\n",
       "29  100.000000  35"
      ]
     },
     "execution_count": 122,
     "metadata": {},
     "output_type": "execute_result"
    }
   ],
   "source": [
    "col1 = np.linspace(10,100,30)\n",
    "col2 = np.random.randint(0,100,30)\n",
    "df6 = pd.DataFrame({'C1':col1, 'C2': col2})\n",
    "df6"
   ]
  },
  {
   "cell_type": "code",
   "execution_count": 124,
   "id": "1e925f1b",
   "metadata": {},
   "outputs": [
    {
     "data": {
      "text/html": [
       "<div>\n",
       "<style scoped>\n",
       "    .dataframe tbody tr th:only-of-type {\n",
       "        vertical-align: middle;\n",
       "    }\n",
       "\n",
       "    .dataframe tbody tr th {\n",
       "        vertical-align: top;\n",
       "    }\n",
       "\n",
       "    .dataframe thead th {\n",
       "        text-align: right;\n",
       "    }\n",
       "</style>\n",
       "<table border=\"1\" class=\"dataframe\">\n",
       "  <thead>\n",
       "    <tr style=\"text-align: right;\">\n",
       "      <th></th>\n",
       "      <th>C1</th>\n",
       "      <th>C2</th>\n",
       "    </tr>\n",
       "  </thead>\n",
       "  <tbody>\n",
       "    <tr>\n",
       "      <th>0</th>\n",
       "      <td>10.000000</td>\n",
       "      <td>70</td>\n",
       "    </tr>\n",
       "    <tr>\n",
       "      <th>1</th>\n",
       "      <td>13.103448</td>\n",
       "      <td>55</td>\n",
       "    </tr>\n",
       "    <tr>\n",
       "      <th>2</th>\n",
       "      <td>16.206897</td>\n",
       "      <td>69</td>\n",
       "    </tr>\n",
       "    <tr>\n",
       "      <th>3</th>\n",
       "      <td>19.310345</td>\n",
       "      <td>3</td>\n",
       "    </tr>\n",
       "    <tr>\n",
       "      <th>4</th>\n",
       "      <td>22.413793</td>\n",
       "      <td>63</td>\n",
       "    </tr>\n",
       "    <tr>\n",
       "      <th>5</th>\n",
       "      <td>25.517241</td>\n",
       "      <td>54</td>\n",
       "    </tr>\n",
       "    <tr>\n",
       "      <th>6</th>\n",
       "      <td>28.620690</td>\n",
       "      <td>96</td>\n",
       "    </tr>\n",
       "    <tr>\n",
       "      <th>7</th>\n",
       "      <td>31.724138</td>\n",
       "      <td>92</td>\n",
       "    </tr>\n",
       "    <tr>\n",
       "      <th>8</th>\n",
       "      <td>34.827586</td>\n",
       "      <td>35</td>\n",
       "    </tr>\n",
       "    <tr>\n",
       "      <th>9</th>\n",
       "      <td>37.931034</td>\n",
       "      <td>50</td>\n",
       "    </tr>\n",
       "    <tr>\n",
       "      <th>10</th>\n",
       "      <td>41.034483</td>\n",
       "      <td>16</td>\n",
       "    </tr>\n",
       "    <tr>\n",
       "      <th>11</th>\n",
       "      <td>44.137931</td>\n",
       "      <td>12</td>\n",
       "    </tr>\n",
       "    <tr>\n",
       "      <th>12</th>\n",
       "      <td>47.241379</td>\n",
       "      <td>90</td>\n",
       "    </tr>\n",
       "    <tr>\n",
       "      <th>13</th>\n",
       "      <td>50.344828</td>\n",
       "      <td>70</td>\n",
       "    </tr>\n",
       "    <tr>\n",
       "      <th>14</th>\n",
       "      <td>53.448276</td>\n",
       "      <td>78</td>\n",
       "    </tr>\n",
       "    <tr>\n",
       "      <th>15</th>\n",
       "      <td>56.551724</td>\n",
       "      <td>23</td>\n",
       "    </tr>\n",
       "    <tr>\n",
       "      <th>16</th>\n",
       "      <td>59.655172</td>\n",
       "      <td>24</td>\n",
       "    </tr>\n",
       "    <tr>\n",
       "      <th>20</th>\n",
       "      <td>72.068966</td>\n",
       "      <td>28</td>\n",
       "    </tr>\n",
       "    <tr>\n",
       "      <th>21</th>\n",
       "      <td>75.172414</td>\n",
       "      <td>49</td>\n",
       "    </tr>\n",
       "    <tr>\n",
       "      <th>22</th>\n",
       "      <td>78.275862</td>\n",
       "      <td>63</td>\n",
       "    </tr>\n",
       "    <tr>\n",
       "      <th>23</th>\n",
       "      <td>81.379310</td>\n",
       "      <td>17</td>\n",
       "    </tr>\n",
       "    <tr>\n",
       "      <th>24</th>\n",
       "      <td>84.482759</td>\n",
       "      <td>70</td>\n",
       "    </tr>\n",
       "    <tr>\n",
       "      <th>25</th>\n",
       "      <td>87.586207</td>\n",
       "      <td>40</td>\n",
       "    </tr>\n",
       "    <tr>\n",
       "      <th>26</th>\n",
       "      <td>90.689655</td>\n",
       "      <td>85</td>\n",
       "    </tr>\n",
       "    <tr>\n",
       "      <th>27</th>\n",
       "      <td>93.793103</td>\n",
       "      <td>83</td>\n",
       "    </tr>\n",
       "    <tr>\n",
       "      <th>28</th>\n",
       "      <td>96.896552</td>\n",
       "      <td>91</td>\n",
       "    </tr>\n",
       "    <tr>\n",
       "      <th>29</th>\n",
       "      <td>100.000000</td>\n",
       "      <td>35</td>\n",
       "    </tr>\n",
       "  </tbody>\n",
       "</table>\n",
       "</div>"
      ],
      "text/plain": [
       "            C1  C2\n",
       "0    10.000000  70\n",
       "1    13.103448  55\n",
       "2    16.206897  69\n",
       "3    19.310345   3\n",
       "4    22.413793  63\n",
       "5    25.517241  54\n",
       "6    28.620690  96\n",
       "7    31.724138  92\n",
       "8    34.827586  35\n",
       "9    37.931034  50\n",
       "10   41.034483  16\n",
       "11   44.137931  12\n",
       "12   47.241379  90\n",
       "13   50.344828  70\n",
       "14   53.448276  78\n",
       "15   56.551724  23\n",
       "16   59.655172  24\n",
       "20   72.068966  28\n",
       "21   75.172414  49\n",
       "22   78.275862  63\n",
       "23   81.379310  17\n",
       "24   84.482759  70\n",
       "25   87.586207  40\n",
       "26   90.689655  85\n",
       "27   93.793103  83\n",
       "28   96.896552  91\n",
       "29  100.000000  35"
      ]
     },
     "execution_count": 124,
     "metadata": {},
     "output_type": "execute_result"
    }
   ],
   "source": [
    "# df6 da 17 , 18 , 19 indexlerine sahip verileri sil\n",
    "df6 = df6.drop([17,18,19], axis=0)\n",
    "df6"
   ]
  },
  {
   "cell_type": "code",
   "execution_count": 125,
   "id": "026f1763",
   "metadata": {},
   "outputs": [
    {
     "data": {
      "text/html": [
       "<div>\n",
       "<style scoped>\n",
       "    .dataframe tbody tr th:only-of-type {\n",
       "        vertical-align: middle;\n",
       "    }\n",
       "\n",
       "    .dataframe tbody tr th {\n",
       "        vertical-align: top;\n",
       "    }\n",
       "\n",
       "    .dataframe thead th {\n",
       "        text-align: right;\n",
       "    }\n",
       "</style>\n",
       "<table border=\"1\" class=\"dataframe\">\n",
       "  <thead>\n",
       "    <tr style=\"text-align: right;\">\n",
       "      <th></th>\n",
       "      <th>C1</th>\n",
       "      <th>C2</th>\n",
       "    </tr>\n",
       "  </thead>\n",
       "  <tbody>\n",
       "    <tr>\n",
       "      <th>0</th>\n",
       "      <td>10.000000</td>\n",
       "      <td>70</td>\n",
       "    </tr>\n",
       "    <tr>\n",
       "      <th>1</th>\n",
       "      <td>13.103448</td>\n",
       "      <td>55</td>\n",
       "    </tr>\n",
       "    <tr>\n",
       "      <th>2</th>\n",
       "      <td>16.206897</td>\n",
       "      <td>69</td>\n",
       "    </tr>\n",
       "    <tr>\n",
       "      <th>3</th>\n",
       "      <td>19.310345</td>\n",
       "      <td>3</td>\n",
       "    </tr>\n",
       "    <tr>\n",
       "      <th>4</th>\n",
       "      <td>22.413793</td>\n",
       "      <td>63</td>\n",
       "    </tr>\n",
       "    <tr>\n",
       "      <th>5</th>\n",
       "      <td>25.517241</td>\n",
       "      <td>54</td>\n",
       "    </tr>\n",
       "    <tr>\n",
       "      <th>7</th>\n",
       "      <td>31.724138</td>\n",
       "      <td>92</td>\n",
       "    </tr>\n",
       "    <tr>\n",
       "      <th>8</th>\n",
       "      <td>34.827586</td>\n",
       "      <td>35</td>\n",
       "    </tr>\n",
       "    <tr>\n",
       "      <th>9</th>\n",
       "      <td>37.931034</td>\n",
       "      <td>50</td>\n",
       "    </tr>\n",
       "    <tr>\n",
       "      <th>10</th>\n",
       "      <td>41.034483</td>\n",
       "      <td>16</td>\n",
       "    </tr>\n",
       "    <tr>\n",
       "      <th>11</th>\n",
       "      <td>44.137931</td>\n",
       "      <td>12</td>\n",
       "    </tr>\n",
       "    <tr>\n",
       "      <th>12</th>\n",
       "      <td>47.241379</td>\n",
       "      <td>90</td>\n",
       "    </tr>\n",
       "    <tr>\n",
       "      <th>13</th>\n",
       "      <td>50.344828</td>\n",
       "      <td>70</td>\n",
       "    </tr>\n",
       "    <tr>\n",
       "      <th>14</th>\n",
       "      <td>53.448276</td>\n",
       "      <td>78</td>\n",
       "    </tr>\n",
       "    <tr>\n",
       "      <th>15</th>\n",
       "      <td>56.551724</td>\n",
       "      <td>23</td>\n",
       "    </tr>\n",
       "    <tr>\n",
       "      <th>16</th>\n",
       "      <td>59.655172</td>\n",
       "      <td>24</td>\n",
       "    </tr>\n",
       "    <tr>\n",
       "      <th>20</th>\n",
       "      <td>72.068966</td>\n",
       "      <td>28</td>\n",
       "    </tr>\n",
       "    <tr>\n",
       "      <th>21</th>\n",
       "      <td>75.172414</td>\n",
       "      <td>49</td>\n",
       "    </tr>\n",
       "    <tr>\n",
       "      <th>22</th>\n",
       "      <td>78.275862</td>\n",
       "      <td>63</td>\n",
       "    </tr>\n",
       "    <tr>\n",
       "      <th>23</th>\n",
       "      <td>81.379310</td>\n",
       "      <td>17</td>\n",
       "    </tr>\n",
       "    <tr>\n",
       "      <th>24</th>\n",
       "      <td>84.482759</td>\n",
       "      <td>70</td>\n",
       "    </tr>\n",
       "    <tr>\n",
       "      <th>25</th>\n",
       "      <td>87.586207</td>\n",
       "      <td>40</td>\n",
       "    </tr>\n",
       "    <tr>\n",
       "      <th>26</th>\n",
       "      <td>90.689655</td>\n",
       "      <td>85</td>\n",
       "    </tr>\n",
       "    <tr>\n",
       "      <th>27</th>\n",
       "      <td>93.793103</td>\n",
       "      <td>83</td>\n",
       "    </tr>\n",
       "    <tr>\n",
       "      <th>28</th>\n",
       "      <td>96.896552</td>\n",
       "      <td>91</td>\n",
       "    </tr>\n",
       "    <tr>\n",
       "      <th>29</th>\n",
       "      <td>100.000000</td>\n",
       "      <td>35</td>\n",
       "    </tr>\n",
       "  </tbody>\n",
       "</table>\n",
       "</div>"
      ],
      "text/plain": [
       "            C1  C2\n",
       "0    10.000000  70\n",
       "1    13.103448  55\n",
       "2    16.206897  69\n",
       "3    19.310345   3\n",
       "4    22.413793  63\n",
       "5    25.517241  54\n",
       "7    31.724138  92\n",
       "8    34.827586  35\n",
       "9    37.931034  50\n",
       "10   41.034483  16\n",
       "11   44.137931  12\n",
       "12   47.241379  90\n",
       "13   50.344828  70\n",
       "14   53.448276  78\n",
       "15   56.551724  23\n",
       "16   59.655172  24\n",
       "20   72.068966  28\n",
       "21   75.172414  49\n",
       "22   78.275862  63\n",
       "23   81.379310  17\n",
       "24   84.482759  70\n",
       "25   87.586207  40\n",
       "26   90.689655  85\n",
       "27   93.793103  83\n",
       "28   96.896552  91\n",
       "29  100.000000  35"
      ]
     },
     "execution_count": 125,
     "metadata": {},
     "output_type": "execute_result"
    }
   ],
   "source": [
    "df6.drop(6, axis=0, inplace=True )\n",
    "df6"
   ]
  },
  {
   "cell_type": "code",
   "execution_count": null,
   "id": "34429e9a",
   "metadata": {},
   "outputs": [],
   "source": []
  }
 ],
 "metadata": {
  "kernelspec": {
   "display_name": "Python 3 (ipykernel)",
   "language": "python",
   "name": "python3"
  },
  "language_info": {
   "codemirror_mode": {
    "name": "ipython",
    "version": 3
   },
   "file_extension": ".py",
   "mimetype": "text/x-python",
   "name": "python",
   "nbconvert_exporter": "python",
   "pygments_lexer": "ipython3",
   "version": "3.10.9"
  }
 },
 "nbformat": 4,
 "nbformat_minor": 5
}
